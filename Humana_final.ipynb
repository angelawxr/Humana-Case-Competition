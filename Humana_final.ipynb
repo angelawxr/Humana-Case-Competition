{
 "cells": [
  {
   "cell_type": "code",
   "execution_count": 1,
   "metadata": {
    "executionInfo": {
     "elapsed": 591,
     "status": "ok",
     "timestamp": 1602456342588,
     "user": {
      "displayName": "Zhenghao Zhou",
      "photoUrl": "",
      "userId": "02219622741157575651"
     },
     "user_tz": 420
    },
    "id": "NV8bPyFv1VMf"
   },
   "outputs": [],
   "source": [
    "import pandas as pd\n",
    "import numpy as np\n",
    "import matplotlib.pyplot as plt\n",
    "import seaborn as sns\n",
    "%matplotlib inline"
   ]
  },
  {
   "cell_type": "code",
   "execution_count": 2,
   "metadata": {
    "colab": {
     "base_uri": "https://localhost:8080/",
     "height": 54
    },
    "executionInfo": {
     "elapsed": 425,
     "status": "ok",
     "timestamp": 1602456454054,
     "user": {
      "displayName": "Zhenghao Zhou",
      "photoUrl": "",
      "userId": "02219622741157575651"
     },
     "user_tz": 420
    },
    "id": "krZ2NHRp1r-c",
    "outputId": "55c8e951-66db-4493-b9aa-201ec9406bc6"
   },
   "outputs": [],
   "source": [
    "#from google.colab import drive\n",
    "#drive.mount('/content/drive')"
   ]
  },
  {
   "cell_type": "code",
   "execution_count": 3,
   "metadata": {
    "colab": {
     "base_uri": "https://localhost:8080/",
     "height": 380
    },
    "executionInfo": {
     "elapsed": 437,
     "status": "error",
     "timestamp": 1602456459168,
     "user": {
      "displayName": "Zhenghao Zhou",
      "photoUrl": "",
      "userId": "02219622741157575651"
     },
     "user_tz": 420
    },
    "id": "2LPAug5u1VMk",
    "outputId": "8a76f734-aa6a-4da5-a3da-bddea9b39211",
    "scrolled": true
   },
   "outputs": [
    {
     "name": "stderr",
     "output_type": "stream",
     "text": [
      "C:\\Users\\Xuran\\anaconda3\\lib\\site-packages\\IPython\\core\\interactiveshell.py:3071: DtypeWarning: Columns (80,193) have mixed types.Specify dtype option on import or set low_memory=False.\n",
      "  has_raised = await self.run_ast_nodes(code_ast.body, cell_name,\n"
     ]
    }
   ],
   "source": [
    "data_training=pd.read_csv('2020_Competition_Training (1).csv')"
   ]
  },
  {
   "cell_type": "code",
   "execution_count": 4,
   "metadata": {
    "colab": {
     "base_uri": "https://localhost:8080/",
     "height": 380
    },
    "executionInfo": {
     "elapsed": 492,
     "status": "error",
     "timestamp": 1602456417749,
     "user": {
      "displayName": "Zhenghao Zhou",
      "photoUrl": "",
      "userId": "02219622741157575651"
     },
     "user_tz": 420
    },
    "id": "Wp3K-VnM1VMr",
    "outputId": "1fec1a42-35ea-4ddb-d052-9ce7ee634670",
    "scrolled": false
   },
   "outputs": [
    {
     "name": "stderr",
     "output_type": "stream",
     "text": [
      "C:\\Users\\Xuran\\anaconda3\\lib\\site-packages\\IPython\\core\\interactiveshell.py:3071: DtypeWarning: Columns (79) have mixed types.Specify dtype option on import or set low_memory=False.\n",
      "  has_raised = await self.run_ast_nodes(code_ast.body, cell_name,\n"
     ]
    }
   ],
   "source": [
    "data_holdout=pd.read_csv('2020_Competition_Holdout .csv')"
   ]
  },
  {
   "cell_type": "code",
   "execution_count": 5,
   "metadata": {
    "id": "CENl_zJI1VMx",
    "outputId": "dae76c43-a155-4fb9-8283-766c8a2dc40b",
    "scrolled": false
   },
   "outputs": [
    {
     "name": "stdout",
     "output_type": "stream",
     "text": [
      "<class 'pandas.core.frame.DataFrame'>\n",
      "RangeIndex: 17681 entries, 0 to 17680\n",
      "Columns: 825 entries, person_id_syn to submcc_rsk_chol_ind\n",
      "dtypes: float64(443), int64(360), object(22)\n",
      "memory usage: 111.3+ MB\n"
     ]
    }
   ],
   "source": [
    "data_holdout.info()"
   ]
  },
  {
   "cell_type": "code",
   "execution_count": 6,
   "metadata": {
    "id": "9dt3YtR11VM0",
    "outputId": "0c9de328-cff7-4d05-aafb-22c87cbe767d"
   },
   "outputs": [
    {
     "name": "stdout",
     "output_type": "stream",
     "text": [
      "<class 'pandas.core.frame.DataFrame'>\n",
      "RangeIndex: 69572 entries, 0 to 69571\n",
      "Columns: 826 entries, person_id_syn to submcc_rsk_chol_ind\n",
      "dtypes: float64(443), int64(361), object(22)\n",
      "memory usage: 438.4+ MB\n"
     ]
    }
   ],
   "source": [
    "data_training.info()"
   ]
  },
  {
   "cell_type": "markdown",
   "metadata": {
    "id": "C1TlnDVz1VM5"
   },
   "source": [
    "## Integrate the holdout and training for data cleaning"
   ]
  },
  {
   "cell_type": "code",
   "execution_count": 7,
   "metadata": {
    "id": "VO6dGKwm1VM6"
   },
   "outputs": [],
   "source": [
    "data_all=pd.concat([data_training.drop('transportation_issues', axis = 1),data_holdout],axis=0)"
   ]
  },
  {
   "cell_type": "code",
   "execution_count": 8,
   "metadata": {
    "id": "eP2xg-WX1VM9",
    "outputId": "6f45dfd4-e9d2-4d3b-e835-14938e4c165a"
   },
   "outputs": [
    {
     "name": "stdout",
     "output_type": "stream",
     "text": [
      "<class 'pandas.core.frame.DataFrame'>\n",
      "Int64Index: 87253 entries, 0 to 17680\n",
      "Columns: 825 entries, person_id_syn to submcc_rsk_chol_ind\n",
      "dtypes: float64(443), int64(360), object(22)\n",
      "memory usage: 549.9+ MB\n"
     ]
    }
   ],
   "source": [
    "data_all.info()"
   ]
  },
  {
   "cell_type": "markdown",
   "metadata": {
    "id": "MhbiubnS1VNB"
   },
   "source": [
    "### add id column as row identifier"
   ]
  },
  {
   "cell_type": "code",
   "execution_count": 9,
   "metadata": {
    "id": "cd3oL5WA1VNC"
   },
   "outputs": [],
   "source": [
    "data_all['id']=list(range(0,87253))"
   ]
  },
  {
   "cell_type": "code",
   "execution_count": 10,
   "metadata": {
    "id": "Xi9wQH3S1VNF",
    "outputId": "92f10d3f-9aac-4e58-adb6-698888a9c4b6",
    "scrolled": true
   },
   "outputs": [
    {
     "name": "stdout",
     "output_type": "stream",
     "text": [
      "<class 'pandas.core.frame.DataFrame'>\n",
      "Int64Index: 87253 entries, 0 to 17680\n",
      "Columns: 826 entries, person_id_syn to id\n",
      "dtypes: float64(443), int64(361), object(22)\n",
      "memory usage: 550.5+ MB\n"
     ]
    }
   ],
   "source": [
    "data_all.info()"
   ]
  },
  {
   "cell_type": "markdown",
   "metadata": {
    "id": "gKGBMOT81VNH"
   },
   "source": [
    "### drop person_id_syn"
   ]
  },
  {
   "cell_type": "code",
   "execution_count": 11,
   "metadata": {
    "id": "vI4Fvz_Z1VNI"
   },
   "outputs": [],
   "source": [
    "data_all=data_all.drop('person_id_syn', axis = 1)"
   ]
  },
  {
   "cell_type": "code",
   "execution_count": 12,
   "metadata": {
    "id": "K2BKVy-i1VNL",
    "outputId": "8b2a05bf-73a3-4cc5-b302-6b7a331fe8d3",
    "scrolled": true
   },
   "outputs": [
    {
     "data": {
      "text/html": [
       "<div>\n",
       "<style scoped>\n",
       "    .dataframe tbody tr th:only-of-type {\n",
       "        vertical-align: middle;\n",
       "    }\n",
       "\n",
       "    .dataframe tbody tr th {\n",
       "        vertical-align: top;\n",
       "    }\n",
       "\n",
       "    .dataframe thead th {\n",
       "        text-align: right;\n",
       "    }\n",
       "</style>\n",
       "<table border=\"1\" class=\"dataframe\">\n",
       "  <thead>\n",
       "    <tr style=\"text-align: right;\">\n",
       "      <th></th>\n",
       "      <th>src_platform_cd</th>\n",
       "      <th>sex_cd</th>\n",
       "      <th>est_age</th>\n",
       "      <th>smoker_current_ind</th>\n",
       "      <th>smoker_former_ind</th>\n",
       "      <th>lang_spoken_cd</th>\n",
       "      <th>mabh_seg</th>\n",
       "      <th>cci_score</th>\n",
       "      <th>dcsi_score</th>\n",
       "      <th>fci_score</th>\n",
       "      <th>...</th>\n",
       "      <th>rx_gpi2_74_ind</th>\n",
       "      <th>rx_gpi2_89_ind</th>\n",
       "      <th>rx_gpi2_96_ind</th>\n",
       "      <th>submcc_rsk_obe_ind</th>\n",
       "      <th>rx_gpi2_22_ind</th>\n",
       "      <th>submcc_rsk_synx_ind</th>\n",
       "      <th>submcc_rsk_coag_ind</th>\n",
       "      <th>submcc_rsk_othr_ind</th>\n",
       "      <th>submcc_rsk_chol_ind</th>\n",
       "      <th>id</th>\n",
       "    </tr>\n",
       "  </thead>\n",
       "  <tbody>\n",
       "    <tr>\n",
       "      <th>0</th>\n",
       "      <td>EM</td>\n",
       "      <td>F</td>\n",
       "      <td>62</td>\n",
       "      <td>1</td>\n",
       "      <td>0</td>\n",
       "      <td>ENG</td>\n",
       "      <td>UNK</td>\n",
       "      <td>3.0</td>\n",
       "      <td>1</td>\n",
       "      <td>2</td>\n",
       "      <td>...</td>\n",
       "      <td>0</td>\n",
       "      <td>0</td>\n",
       "      <td>0</td>\n",
       "      <td>0</td>\n",
       "      <td>0</td>\n",
       "      <td>0</td>\n",
       "      <td>0</td>\n",
       "      <td>0</td>\n",
       "      <td>0</td>\n",
       "      <td>0</td>\n",
       "    </tr>\n",
       "    <tr>\n",
       "      <th>1</th>\n",
       "      <td>EM</td>\n",
       "      <td>F</td>\n",
       "      <td>59</td>\n",
       "      <td>1</td>\n",
       "      <td>0</td>\n",
       "      <td>ENG</td>\n",
       "      <td>C2</td>\n",
       "      <td>1.0</td>\n",
       "      <td>2</td>\n",
       "      <td>5</td>\n",
       "      <td>...</td>\n",
       "      <td>0</td>\n",
       "      <td>0</td>\n",
       "      <td>0</td>\n",
       "      <td>1</td>\n",
       "      <td>0</td>\n",
       "      <td>0</td>\n",
       "      <td>0</td>\n",
       "      <td>0</td>\n",
       "      <td>1</td>\n",
       "      <td>1</td>\n",
       "    </tr>\n",
       "    <tr>\n",
       "      <th>2</th>\n",
       "      <td>EM</td>\n",
       "      <td>F</td>\n",
       "      <td>63</td>\n",
       "      <td>0</td>\n",
       "      <td>0</td>\n",
       "      <td>ENG</td>\n",
       "      <td>UNK</td>\n",
       "      <td>3.0</td>\n",
       "      <td>0</td>\n",
       "      <td>6</td>\n",
       "      <td>...</td>\n",
       "      <td>0</td>\n",
       "      <td>0</td>\n",
       "      <td>0</td>\n",
       "      <td>0</td>\n",
       "      <td>0</td>\n",
       "      <td>0</td>\n",
       "      <td>0</td>\n",
       "      <td>0</td>\n",
       "      <td>1</td>\n",
       "      <td>2</td>\n",
       "    </tr>\n",
       "    <tr>\n",
       "      <th>3</th>\n",
       "      <td>EM</td>\n",
       "      <td>M</td>\n",
       "      <td>75</td>\n",
       "      <td>0</td>\n",
       "      <td>0</td>\n",
       "      <td>ENG</td>\n",
       "      <td>H6</td>\n",
       "      <td>3.0</td>\n",
       "      <td>0</td>\n",
       "      <td>2</td>\n",
       "      <td>...</td>\n",
       "      <td>0</td>\n",
       "      <td>0</td>\n",
       "      <td>0</td>\n",
       "      <td>1</td>\n",
       "      <td>0</td>\n",
       "      <td>0</td>\n",
       "      <td>0</td>\n",
       "      <td>0</td>\n",
       "      <td>1</td>\n",
       "      <td>3</td>\n",
       "    </tr>\n",
       "    <tr>\n",
       "      <th>4</th>\n",
       "      <td>EM</td>\n",
       "      <td>M</td>\n",
       "      <td>51</td>\n",
       "      <td>1</td>\n",
       "      <td>0</td>\n",
       "      <td>ENG</td>\n",
       "      <td>UNK</td>\n",
       "      <td>3.0</td>\n",
       "      <td>1</td>\n",
       "      <td>4</td>\n",
       "      <td>...</td>\n",
       "      <td>0</td>\n",
       "      <td>0</td>\n",
       "      <td>0</td>\n",
       "      <td>0</td>\n",
       "      <td>0</td>\n",
       "      <td>0</td>\n",
       "      <td>0</td>\n",
       "      <td>0</td>\n",
       "      <td>1</td>\n",
       "      <td>4</td>\n",
       "    </tr>\n",
       "    <tr>\n",
       "      <th>...</th>\n",
       "      <td>...</td>\n",
       "      <td>...</td>\n",
       "      <td>...</td>\n",
       "      <td>...</td>\n",
       "      <td>...</td>\n",
       "      <td>...</td>\n",
       "      <td>...</td>\n",
       "      <td>...</td>\n",
       "      <td>...</td>\n",
       "      <td>...</td>\n",
       "      <td>...</td>\n",
       "      <td>...</td>\n",
       "      <td>...</td>\n",
       "      <td>...</td>\n",
       "      <td>...</td>\n",
       "      <td>...</td>\n",
       "      <td>...</td>\n",
       "      <td>...</td>\n",
       "      <td>...</td>\n",
       "      <td>...</td>\n",
       "      <td>...</td>\n",
       "    </tr>\n",
       "    <tr>\n",
       "      <th>17676</th>\n",
       "      <td>EM</td>\n",
       "      <td>M</td>\n",
       "      <td>79</td>\n",
       "      <td>0</td>\n",
       "      <td>0</td>\n",
       "      <td>ENG</td>\n",
       "      <td>H7</td>\n",
       "      <td>8.0</td>\n",
       "      <td>2</td>\n",
       "      <td>3</td>\n",
       "      <td>...</td>\n",
       "      <td>0</td>\n",
       "      <td>0</td>\n",
       "      <td>0</td>\n",
       "      <td>0</td>\n",
       "      <td>0</td>\n",
       "      <td>0</td>\n",
       "      <td>0</td>\n",
       "      <td>0</td>\n",
       "      <td>0</td>\n",
       "      <td>87248</td>\n",
       "    </tr>\n",
       "    <tr>\n",
       "      <th>17677</th>\n",
       "      <td>LV</td>\n",
       "      <td>M</td>\n",
       "      <td>86</td>\n",
       "      <td>0</td>\n",
       "      <td>1</td>\n",
       "      <td>ENG</td>\n",
       "      <td>H3</td>\n",
       "      <td>5.0</td>\n",
       "      <td>4</td>\n",
       "      <td>4</td>\n",
       "      <td>...</td>\n",
       "      <td>0</td>\n",
       "      <td>0</td>\n",
       "      <td>0</td>\n",
       "      <td>0</td>\n",
       "      <td>0</td>\n",
       "      <td>0</td>\n",
       "      <td>0</td>\n",
       "      <td>0</td>\n",
       "      <td>1</td>\n",
       "      <td>87249</td>\n",
       "    </tr>\n",
       "    <tr>\n",
       "      <th>17678</th>\n",
       "      <td>LV</td>\n",
       "      <td>F</td>\n",
       "      <td>74</td>\n",
       "      <td>0</td>\n",
       "      <td>0</td>\n",
       "      <td>ENG</td>\n",
       "      <td>H1</td>\n",
       "      <td>3.0</td>\n",
       "      <td>0</td>\n",
       "      <td>0</td>\n",
       "      <td>...</td>\n",
       "      <td>0</td>\n",
       "      <td>0</td>\n",
       "      <td>0</td>\n",
       "      <td>0</td>\n",
       "      <td>0</td>\n",
       "      <td>0</td>\n",
       "      <td>0</td>\n",
       "      <td>0</td>\n",
       "      <td>0</td>\n",
       "      <td>87250</td>\n",
       "    </tr>\n",
       "    <tr>\n",
       "      <th>17679</th>\n",
       "      <td>EM</td>\n",
       "      <td>F</td>\n",
       "      <td>77</td>\n",
       "      <td>0</td>\n",
       "      <td>0</td>\n",
       "      <td>ENG</td>\n",
       "      <td>H2</td>\n",
       "      <td>5.0</td>\n",
       "      <td>3</td>\n",
       "      <td>4</td>\n",
       "      <td>...</td>\n",
       "      <td>0</td>\n",
       "      <td>0</td>\n",
       "      <td>0</td>\n",
       "      <td>0</td>\n",
       "      <td>0</td>\n",
       "      <td>0</td>\n",
       "      <td>0</td>\n",
       "      <td>0</td>\n",
       "      <td>1</td>\n",
       "      <td>87251</td>\n",
       "    </tr>\n",
       "    <tr>\n",
       "      <th>17680</th>\n",
       "      <td>EM</td>\n",
       "      <td>F</td>\n",
       "      <td>65</td>\n",
       "      <td>1</td>\n",
       "      <td>0</td>\n",
       "      <td>ENG</td>\n",
       "      <td>C2</td>\n",
       "      <td>8.0</td>\n",
       "      <td>3</td>\n",
       "      <td>4</td>\n",
       "      <td>...</td>\n",
       "      <td>0</td>\n",
       "      <td>0</td>\n",
       "      <td>0</td>\n",
       "      <td>1</td>\n",
       "      <td>1</td>\n",
       "      <td>0</td>\n",
       "      <td>0</td>\n",
       "      <td>0</td>\n",
       "      <td>1</td>\n",
       "      <td>87252</td>\n",
       "    </tr>\n",
       "  </tbody>\n",
       "</table>\n",
       "<p>87253 rows × 825 columns</p>\n",
       "</div>"
      ],
      "text/plain": [
       "      src_platform_cd sex_cd  est_age  smoker_current_ind  smoker_former_ind  \\\n",
       "0                  EM      F       62                   1                  0   \n",
       "1                  EM      F       59                   1                  0   \n",
       "2                  EM      F       63                   0                  0   \n",
       "3                  EM      M       75                   0                  0   \n",
       "4                  EM      M       51                   1                  0   \n",
       "...               ...    ...      ...                 ...                ...   \n",
       "17676              EM      M       79                   0                  0   \n",
       "17677              LV      M       86                   0                  1   \n",
       "17678              LV      F       74                   0                  0   \n",
       "17679              EM      F       77                   0                  0   \n",
       "17680              EM      F       65                   1                  0   \n",
       "\n",
       "      lang_spoken_cd mabh_seg  cci_score  dcsi_score  fci_score  ...  \\\n",
       "0                ENG      UNK        3.0           1          2  ...   \n",
       "1                ENG       C2        1.0           2          5  ...   \n",
       "2                ENG      UNK        3.0           0          6  ...   \n",
       "3                ENG       H6        3.0           0          2  ...   \n",
       "4                ENG      UNK        3.0           1          4  ...   \n",
       "...              ...      ...        ...         ...        ...  ...   \n",
       "17676            ENG       H7        8.0           2          3  ...   \n",
       "17677            ENG       H3        5.0           4          4  ...   \n",
       "17678            ENG       H1        3.0           0          0  ...   \n",
       "17679            ENG       H2        5.0           3          4  ...   \n",
       "17680            ENG       C2        8.0           3          4  ...   \n",
       "\n",
       "       rx_gpi2_74_ind  rx_gpi2_89_ind  rx_gpi2_96_ind  submcc_rsk_obe_ind  \\\n",
       "0                   0               0               0                   0   \n",
       "1                   0               0               0                   1   \n",
       "2                   0               0               0                   0   \n",
       "3                   0               0               0                   1   \n",
       "4                   0               0               0                   0   \n",
       "...               ...             ...             ...                 ...   \n",
       "17676               0               0               0                   0   \n",
       "17677               0               0               0                   0   \n",
       "17678               0               0               0                   0   \n",
       "17679               0               0               0                   0   \n",
       "17680               0               0               0                   1   \n",
       "\n",
       "       rx_gpi2_22_ind  submcc_rsk_synx_ind  submcc_rsk_coag_ind  \\\n",
       "0                   0                    0                    0   \n",
       "1                   0                    0                    0   \n",
       "2                   0                    0                    0   \n",
       "3                   0                    0                    0   \n",
       "4                   0                    0                    0   \n",
       "...               ...                  ...                  ...   \n",
       "17676               0                    0                    0   \n",
       "17677               0                    0                    0   \n",
       "17678               0                    0                    0   \n",
       "17679               0                    0                    0   \n",
       "17680               1                    0                    0   \n",
       "\n",
       "       submcc_rsk_othr_ind  submcc_rsk_chol_ind     id  \n",
       "0                        0                    0      0  \n",
       "1                        0                    1      1  \n",
       "2                        0                    1      2  \n",
       "3                        0                    1      3  \n",
       "4                        0                    1      4  \n",
       "...                    ...                  ...    ...  \n",
       "17676                    0                    0  87248  \n",
       "17677                    0                    1  87249  \n",
       "17678                    0                    0  87250  \n",
       "17679                    0                    1  87251  \n",
       "17680                    0                    1  87252  \n",
       "\n",
       "[87253 rows x 825 columns]"
      ]
     },
     "execution_count": 12,
     "metadata": {},
     "output_type": "execute_result"
    }
   ],
   "source": [
    "data_all"
   ]
  },
  {
   "cell_type": "markdown",
   "metadata": {
    "id": "QhtY1W-a1VNO"
   },
   "source": [
    "### seperate location columns for analysis in mysql"
   ]
  },
  {
   "cell_type": "code",
   "execution_count": 13,
   "metadata": {
    "id": "mX6zalAn1VNP"
   },
   "outputs": [],
   "source": [
    "data_all_loc=data_all[['id','cnty_cd','state_cd']]"
   ]
  },
  {
   "cell_type": "code",
   "execution_count": 14,
   "metadata": {
    "id": "5ipcYk_W1VNS",
    "outputId": "acaca948-82b7-4f12-9e79-cd4336028b47"
   },
   "outputs": [
    {
     "name": "stdout",
     "output_type": "stream",
     "text": [
      "<class 'pandas.core.frame.DataFrame'>\n",
      "Int64Index: 87253 entries, 0 to 17680\n",
      "Data columns (total 3 columns):\n",
      " #   Column    Non-Null Count  Dtype \n",
      "---  ------    --------------  ----- \n",
      " 0   id        87253 non-null  int64 \n",
      " 1   cnty_cd   87253 non-null  object\n",
      " 2   state_cd  87253 non-null  object\n",
      "dtypes: int64(1), object(2)\n",
      "memory usage: 2.7+ MB\n"
     ]
    }
   ],
   "source": [
    "data_all_loc.info()"
   ]
  },
  {
   "cell_type": "markdown",
   "metadata": {
    "id": "N5vLRuc51VNX"
   },
   "source": [
    "### write to csv"
   ]
  },
  {
   "cell_type": "code",
   "execution_count": null,
   "metadata": {
    "id": "qJ9FMu-n1VNY"
   },
   "outputs": [],
   "source": [
    "data_all_loc.to_csv(\"data_all_loc.csv\")"
   ]
  },
  {
   "cell_type": "markdown",
   "metadata": {
    "id": "xaIAL-Q81VNd"
   },
   "source": [
    "### import the location info back to python"
   ]
  },
  {
   "cell_type": "code",
   "execution_count": null,
   "metadata": {
    "id": "m0Q7w6vL1VNe"
   },
   "outputs": [],
   "source": [
    "location_all=pd.read_csv('location_all.csv',sep=';')"
   ]
  },
  {
   "cell_type": "code",
   "execution_count": null,
   "metadata": {
    "id": "8vFaHpd61VNk",
    "outputId": "ab6e6d9f-f610-4ddb-e243-e657795ad080",
    "scrolled": true
   },
   "outputs": [
    {
     "data": {
      "text/html": [
       "<div>\n",
       "<style scoped>\n",
       "    .dataframe tbody tr th:only-of-type {\n",
       "        vertical-align: middle;\n",
       "    }\n",
       "\n",
       "    .dataframe tbody tr th {\n",
       "        vertical-align: top;\n",
       "    }\n",
       "\n",
       "    .dataframe thead th {\n",
       "        text-align: right;\n",
       "    }\n",
       "</style>\n",
       "<table border=\"1\" class=\"dataframe\">\n",
       "  <thead>\n",
       "    <tr style=\"text-align: right;\">\n",
       "      <th></th>\n",
       "      <th>id</th>\n",
       "      <th>cnty_cd</th>\n",
       "      <th>state_cd</th>\n",
       "      <th>state_code</th>\n",
       "      <th>county_cd</th>\n",
       "      <th>num_hospitals</th>\n",
       "    </tr>\n",
       "  </thead>\n",
       "  <tbody>\n",
       "    <tr>\n",
       "      <th>0</th>\n",
       "      <td>0</td>\n",
       "      <td>other</td>\n",
       "      <td>other</td>\n",
       "      <td>other</td>\n",
       "      <td>otherother</td>\n",
       "      <td>0</td>\n",
       "    </tr>\n",
       "    <tr>\n",
       "      <th>1</th>\n",
       "      <td>1</td>\n",
       "      <td>other</td>\n",
       "      <td>other</td>\n",
       "      <td>other</td>\n",
       "      <td>otherother</td>\n",
       "      <td>0</td>\n",
       "    </tr>\n",
       "    <tr>\n",
       "      <th>2</th>\n",
       "      <td>2</td>\n",
       "      <td>other</td>\n",
       "      <td>other</td>\n",
       "      <td>other</td>\n",
       "      <td>otherother</td>\n",
       "      <td>0</td>\n",
       "    </tr>\n",
       "    <tr>\n",
       "      <th>3</th>\n",
       "      <td>3</td>\n",
       "      <td>other</td>\n",
       "      <td>other</td>\n",
       "      <td>other</td>\n",
       "      <td>otherother</td>\n",
       "      <td>0</td>\n",
       "    </tr>\n",
       "    <tr>\n",
       "      <th>4</th>\n",
       "      <td>4</td>\n",
       "      <td>other</td>\n",
       "      <td>other</td>\n",
       "      <td>other</td>\n",
       "      <td>otherother</td>\n",
       "      <td>0</td>\n",
       "    </tr>\n",
       "    <tr>\n",
       "      <th>...</th>\n",
       "      <td>...</td>\n",
       "      <td>...</td>\n",
       "      <td>...</td>\n",
       "      <td>...</td>\n",
       "      <td>...</td>\n",
       "      <td>...</td>\n",
       "    </tr>\n",
       "    <tr>\n",
       "      <th>87248</th>\n",
       "      <td>87248</td>\n",
       "      <td>013</td>\n",
       "      <td>AZ</td>\n",
       "      <td>4</td>\n",
       "      <td>4013</td>\n",
       "      <td>78</td>\n",
       "    </tr>\n",
       "    <tr>\n",
       "      <th>87249</th>\n",
       "      <td>87249</td>\n",
       "      <td>other</td>\n",
       "      <td>other</td>\n",
       "      <td>other</td>\n",
       "      <td>otherother</td>\n",
       "      <td>0</td>\n",
       "    </tr>\n",
       "    <tr>\n",
       "      <th>87250</th>\n",
       "      <td>87250</td>\n",
       "      <td>other</td>\n",
       "      <td>other</td>\n",
       "      <td>other</td>\n",
       "      <td>otherother</td>\n",
       "      <td>0</td>\n",
       "    </tr>\n",
       "    <tr>\n",
       "      <th>87251</th>\n",
       "      <td>87251</td>\n",
       "      <td>063</td>\n",
       "      <td>LA</td>\n",
       "      <td>22</td>\n",
       "      <td>22063</td>\n",
       "      <td>1</td>\n",
       "    </tr>\n",
       "    <tr>\n",
       "      <th>87252</th>\n",
       "      <td>87252</td>\n",
       "      <td>other</td>\n",
       "      <td>other</td>\n",
       "      <td>other</td>\n",
       "      <td>otherother</td>\n",
       "      <td>0</td>\n",
       "    </tr>\n",
       "  </tbody>\n",
       "</table>\n",
       "<p>87253 rows × 6 columns</p>\n",
       "</div>"
      ],
      "text/plain": [
       "          id cnty_cd state_cd state_code   county_cd  num_hospitals\n",
       "0          0   other    other      other  otherother              0\n",
       "1          1   other    other      other  otherother              0\n",
       "2          2   other    other      other  otherother              0\n",
       "3          3   other    other      other  otherother              0\n",
       "4          4   other    other      other  otherother              0\n",
       "...      ...     ...      ...        ...         ...            ...\n",
       "87248  87248     013       AZ          4        4013             78\n",
       "87249  87249   other    other      other  otherother              0\n",
       "87250  87250   other    other      other  otherother              0\n",
       "87251  87251     063       LA         22       22063              1\n",
       "87252  87252   other    other      other  otherother              0\n",
       "\n",
       "[87253 rows x 6 columns]"
      ]
     },
     "execution_count": 16,
     "metadata": {
      "tags": []
     },
     "output_type": "execute_result"
    }
   ],
   "source": [
    "location_all"
   ]
  },
  {
   "cell_type": "code",
   "execution_count": null,
   "metadata": {
    "id": "OPhB5VZI1VNp",
    "outputId": "8a98ae49-35a1-41a9-8700-465e4b45c2ab"
   },
   "outputs": [
    {
     "data": {
      "text/html": [
       "<div>\n",
       "<style scoped>\n",
       "    .dataframe tbody tr th:only-of-type {\n",
       "        vertical-align: middle;\n",
       "    }\n",
       "\n",
       "    .dataframe tbody tr th {\n",
       "        vertical-align: top;\n",
       "    }\n",
       "\n",
       "    .dataframe thead th {\n",
       "        text-align: right;\n",
       "    }\n",
       "</style>\n",
       "<table border=\"1\" class=\"dataframe\">\n",
       "  <thead>\n",
       "    <tr style=\"text-align: right;\">\n",
       "      <th></th>\n",
       "      <th>id</th>\n",
       "      <th>num_hospitals</th>\n",
       "    </tr>\n",
       "  </thead>\n",
       "  <tbody>\n",
       "    <tr>\n",
       "      <th>0</th>\n",
       "      <td>0</td>\n",
       "      <td>0</td>\n",
       "    </tr>\n",
       "    <tr>\n",
       "      <th>1</th>\n",
       "      <td>1</td>\n",
       "      <td>0</td>\n",
       "    </tr>\n",
       "    <tr>\n",
       "      <th>2</th>\n",
       "      <td>2</td>\n",
       "      <td>0</td>\n",
       "    </tr>\n",
       "    <tr>\n",
       "      <th>3</th>\n",
       "      <td>3</td>\n",
       "      <td>0</td>\n",
       "    </tr>\n",
       "    <tr>\n",
       "      <th>4</th>\n",
       "      <td>4</td>\n",
       "      <td>0</td>\n",
       "    </tr>\n",
       "    <tr>\n",
       "      <th>...</th>\n",
       "      <td>...</td>\n",
       "      <td>...</td>\n",
       "    </tr>\n",
       "    <tr>\n",
       "      <th>87248</th>\n",
       "      <td>87248</td>\n",
       "      <td>78</td>\n",
       "    </tr>\n",
       "    <tr>\n",
       "      <th>87249</th>\n",
       "      <td>87249</td>\n",
       "      <td>0</td>\n",
       "    </tr>\n",
       "    <tr>\n",
       "      <th>87250</th>\n",
       "      <td>87250</td>\n",
       "      <td>0</td>\n",
       "    </tr>\n",
       "    <tr>\n",
       "      <th>87251</th>\n",
       "      <td>87251</td>\n",
       "      <td>1</td>\n",
       "    </tr>\n",
       "    <tr>\n",
       "      <th>87252</th>\n",
       "      <td>87252</td>\n",
       "      <td>0</td>\n",
       "    </tr>\n",
       "  </tbody>\n",
       "</table>\n",
       "<p>87253 rows × 2 columns</p>\n",
       "</div>"
      ],
      "text/plain": [
       "          id  num_hospitals\n",
       "0          0              0\n",
       "1          1              0\n",
       "2          2              0\n",
       "3          3              0\n",
       "4          4              0\n",
       "...      ...            ...\n",
       "87248  87248             78\n",
       "87249  87249              0\n",
       "87250  87250              0\n",
       "87251  87251              1\n",
       "87252  87252              0\n",
       "\n",
       "[87253 rows x 2 columns]"
      ]
     },
     "execution_count": 17,
     "metadata": {
      "tags": []
     },
     "output_type": "execute_result"
    }
   ],
   "source": [
    "location_all[['id','num_hospitals']]"
   ]
  },
  {
   "cell_type": "code",
   "execution_count": null,
   "metadata": {
    "id": "LEoburkT1VNu",
    "outputId": "bb18adfa-1cd1-4742-ec1b-7a7d416bf27f",
    "scrolled": true
   },
   "outputs": [
    {
     "name": "stdout",
     "output_type": "stream",
     "text": [
      "<class 'pandas.core.frame.DataFrame'>\n",
      "Int64Index: 87253 entries, 0 to 17680\n",
      "Columns: 825 entries, src_platform_cd to id\n",
      "dtypes: float64(443), int64(361), object(21)\n",
      "memory usage: 549.9+ MB\n"
     ]
    }
   ],
   "source": [
    "data_all.info()"
   ]
  },
  {
   "cell_type": "code",
   "execution_count": null,
   "metadata": {
    "id": "pfbB7Sd61VN3"
   },
   "outputs": [],
   "source": [
    "data=pd.merge(data_all, location_all[['id','num_hospitals']], on='id')"
   ]
  },
  {
   "cell_type": "code",
   "execution_count": null,
   "metadata": {
    "id": "C0jWNgQs1VN5",
    "scrolled": true
   },
   "outputs": [],
   "source": [
    "data['num_hospitals']=data['num_hospitals'].astype('object')"
   ]
  },
  {
   "cell_type": "markdown",
   "metadata": {
    "id": "b7ox7BxP1VN8"
   },
   "source": [
    "## Deal with object-type columns"
   ]
  },
  {
   "cell_type": "code",
   "execution_count": null,
   "metadata": {
    "id": "d0n95dLo1VN8"
   },
   "outputs": [],
   "source": [
    "data_object=data.loc[:, data.dtypes == object]"
   ]
  },
  {
   "cell_type": "code",
   "execution_count": null,
   "metadata": {
    "id": "aukWbf-g1VN-",
    "outputId": "290f1d83-53f4-4303-88a0-ed622faf8cbd",
    "scrolled": false
   },
   "outputs": [
    {
     "data": {
      "text/plain": [
       "Index(['src_platform_cd', 'sex_cd', 'lang_spoken_cd', 'mabh_seg',\n",
       "       'cms_ra_factor_type_cd', 'cons_cmys', 'cons_hhcomp', 'cons_homstat',\n",
       "       'hedis_ami', 'hedis_cmc_ldc_c_control', 'hedis_cmc_ldc_c_screen',\n",
       "       'hedis_dia_eye', 'hedis_dia_hba1c_ge9', 'hedis_dia_hba1c_test',\n",
       "       'hedis_dia_ldc_c_control', 'hedis_dia_ldc_c_screen',\n",
       "       'hedis_dia_ma_nephr', 'rucc_category', 'zip_cd', 'cnty_cd', 'state_cd',\n",
       "       'num_hospitals'],\n",
       "      dtype='object')"
      ]
     },
     "execution_count": 22,
     "metadata": {
      "tags": []
     },
     "output_type": "execute_result"
    }
   ],
   "source": [
    "data_object.columns"
   ]
  },
  {
   "cell_type": "code",
   "execution_count": null,
   "metadata": {
    "id": "3X528nz81VOA",
    "outputId": "51dda2bf-b344-4b39-b3b5-39182b345200"
   },
   "outputs": [
    {
     "name": "stdout",
     "output_type": "stream",
     "text": [
      "EM    62614\n",
      "LV    24639\n",
      "Name: src_platform_cd, dtype: int64\n",
      "F    51471\n",
      "M    35782\n",
      "Name: sex_cd, dtype: int64\n",
      "ENG    80061\n",
      "SPA     4709\n",
      "E       2483\n",
      "Name: lang_spoken_cd, dtype: int64\n",
      "H2     20603\n",
      "UNK    15956\n",
      "H6      9334\n",
      "H1      8367\n",
      "C4      8086\n",
      "C2      7404\n",
      "H7      5209\n",
      "C5      3646\n",
      "H4      2765\n",
      "C3      1610\n",
      "H3      1374\n",
      "H8       862\n",
      "H5       604\n",
      "C6       600\n",
      "C1       435\n",
      "C7       398\n",
      "Name: mabh_seg, dtype: int64\n",
      "CN    63640\n",
      "CP     8805\n",
      "E      4641\n",
      "CF     4476\n",
      "D       219\n",
      "C2       89\n",
      "I        58\n",
      "SE       48\n",
      "*         7\n",
      "Name: cms_ra_factor_type_cd, dtype: int64\n",
      "4.0    22857\n",
      "3.0    18774\n",
      "4       6698\n",
      "3       5455\n",
      "6.0     3816\n",
      "5.0     3336\n",
      "6       1062\n",
      "5        951\n",
      "2.0      131\n",
      "0.0       45\n",
      "2         43\n",
      "*         21\n",
      "0          9\n",
      "Name: cons_cmys, dtype: int64\n",
      "B    16277\n",
      "L    13327\n",
      "A     8737\n",
      "U     7299\n",
      "J     7255\n",
      "D     1973\n",
      "K     1905\n",
      "G     1489\n",
      "F     1247\n",
      "C     1240\n",
      "H     1221\n",
      "E      613\n",
      "I      606\n",
      "Name: cons_hhcomp, dtype: int64\n",
      "Y    43663\n",
      "U     7135\n",
      "P     6367\n",
      "R     5294\n",
      "T      726\n",
      "Name: cons_homstat, dtype: int64\n",
      "Y    196\n",
      "N     96\n",
      "Name: hedis_ami, dtype: int64\n",
      "N    10269\n",
      "Y     8218\n",
      "Name: hedis_cmc_ldc_c_control, dtype: int64\n",
      "Y    15420\n",
      "N     3069\n",
      "Name: hedis_cmc_ldc_c_screen, dtype: int64\n",
      "Y    83572\n",
      "N     2322\n",
      "Name: hedis_dia_eye, dtype: int64\n",
      "N    83056\n",
      "Y     2837\n",
      "Name: hedis_dia_hba1c_ge9, dtype: int64\n",
      "Y    45894\n",
      "N    39997\n",
      "Name: hedis_dia_hba1c_test, dtype: int64\n",
      "N    57020\n",
      "Y    28873\n",
      "Name: hedis_dia_ldc_c_control, dtype: int64\n",
      "Y    64656\n",
      "N    21237\n",
      "Name: hedis_dia_ldc_c_screen, dtype: int64\n",
      "Y    56988\n",
      "N    28904\n",
      "Name: hedis_dia_ma_nephr, dtype: int64\n",
      "1-Metro       46873\n",
      "2-Metro       21336\n",
      "3-Metro        6249\n",
      "6-Nonmetro     6202\n",
      "4-Nonmetro     2953\n",
      "7-Nonmetro     1692\n",
      "8-Nonmetro      701\n",
      "5-Nonmetro      661\n",
      "9-Nonmetro      586\n",
      "Name: rucc_category, dtype: int64\n",
      "other    58571\n",
      "33027      155\n",
      "33411      125\n",
      "34667      118\n",
      "33024      113\n",
      "         ...  \n",
      "70714       13\n",
      "85208       12\n",
      "28054       12\n",
      "40219       10\n",
      "32405        8\n",
      "Name: zip_cd, Length: 840, dtype: int64\n",
      "other    58571\n",
      "011       2345\n",
      "099       1754\n",
      "086       1416\n",
      "003       1239\n",
      "         ...  \n",
      "137         20\n",
      "439         20\n",
      "259         20\n",
      "131         18\n",
      "177         14\n",
      "Name: cnty_cd, Length: 109, dtype: int64\n",
      "other    58571\n",
      "FL       13313\n",
      "LA        2237\n",
      "TN        2030\n",
      "NV        1199\n",
      "NC        1103\n",
      "VA        1099\n",
      "IL         901\n",
      "GA         860\n",
      "AZ         752\n",
      "SC         723\n",
      "TX         649\n",
      "IN         625\n",
      "KY         519\n",
      "MS         449\n",
      "OH         420\n",
      "MT         378\n",
      "MO         252\n",
      "CO         217\n",
      "AL         183\n",
      "CA         162\n",
      "AR         148\n",
      "WA          94\n",
      "MN          88\n",
      "OK          78\n",
      "IA          60\n",
      "NM          51\n",
      "WV          26\n",
      "WI          26\n",
      "SD          20\n",
      "PR          20\n",
      "Name: state_cd, dtype: int64\n",
      "0     58769\n",
      "1      2399\n",
      "2      2269\n",
      "28     2255\n",
      "5      1934\n",
      "6      1777\n",
      "20     1754\n",
      "18     1472\n",
      "9      1472\n",
      "21     1416\n",
      "37     1416\n",
      "47     1219\n",
      "3      1130\n",
      "7      1104\n",
      "4      1064\n",
      "11      919\n",
      "17      799\n",
      "10      692\n",
      "73      659\n",
      "15      516\n",
      "8       430\n",
      "13      369\n",
      "78      363\n",
      "14      249\n",
      "16      162\n",
      "12      152\n",
      "22      141\n",
      "23      112\n",
      "19       59\n",
      "58       51\n",
      "27       46\n",
      "30       39\n",
      "94       25\n",
      "57       20\n",
      "Name: num_hospitals, dtype: int64\n"
     ]
    }
   ],
   "source": [
    "for i in range(0,22):\n",
    "    print(data_object.iloc[:,i].value_counts())"
   ]
  },
  {
   "cell_type": "code",
   "execution_count": null,
   "metadata": {
    "id": "LEvnei_e1VOD"
   },
   "outputs": [],
   "source": [
    "data_object_get_dummies_list=['src_platform_cd', 'sex_cd', 'lang_spoken_cd',\n",
    "       'mabh_seg', 'cms_ra_factor_type_cd', 'cons_cmys', 'cons_hhcomp',\n",
    "       'cons_homstat', 'hedis_ami', 'hedis_cmc_ldc_c_control',\n",
    "       'hedis_cmc_ldc_c_screen', 'hedis_dia_eye', 'hedis_dia_hba1c_ge9',\n",
    "       'hedis_dia_hba1c_test', 'hedis_dia_ldc_c_control',\n",
    "       'hedis_dia_ldc_c_screen', 'hedis_dia_ma_nephr', 'rucc_category','num_hospitals']"
   ]
  },
  {
   "cell_type": "code",
   "execution_count": null,
   "metadata": {
    "id": "BcweHc9R1VOI",
    "outputId": "04a3a7e9-f66f-46a0-d1e4-406d0f28cf53",
    "scrolled": false
   },
   "outputs": [
    {
     "data": {
      "text/plain": [
       "['src_platform_cd',\n",
       " 'sex_cd',\n",
       " 'lang_spoken_cd',\n",
       " 'mabh_seg',\n",
       " 'cms_ra_factor_type_cd',\n",
       " 'cons_cmys',\n",
       " 'cons_hhcomp',\n",
       " 'cons_homstat',\n",
       " 'hedis_ami',\n",
       " 'hedis_cmc_ldc_c_control',\n",
       " 'hedis_cmc_ldc_c_screen',\n",
       " 'hedis_dia_eye',\n",
       " 'hedis_dia_hba1c_ge9',\n",
       " 'hedis_dia_hba1c_test',\n",
       " 'hedis_dia_ldc_c_control',\n",
       " 'hedis_dia_ldc_c_screen',\n",
       " 'hedis_dia_ma_nephr',\n",
       " 'rucc_category',\n",
       " 'num_hospitals']"
      ]
     },
     "execution_count": 25,
     "metadata": {
      "tags": []
     },
     "output_type": "execute_result"
    }
   ],
   "source": [
    "data_object_get_dummies_list"
   ]
  },
  {
   "cell_type": "code",
   "execution_count": null,
   "metadata": {
    "id": "4xMsf2Z31VOM"
   },
   "outputs": [],
   "source": [
    "data_object_get_dummies=data_object[data_object_get_dummies_list]"
   ]
  },
  {
   "cell_type": "code",
   "execution_count": null,
   "metadata": {
    "id": "cOWEO-i31VOP",
    "outputId": "1bc491c8-9740-4064-e766-b458cd62623d"
   },
   "outputs": [
    {
     "data": {
      "text/html": [
       "<div>\n",
       "<style scoped>\n",
       "    .dataframe tbody tr th:only-of-type {\n",
       "        vertical-align: middle;\n",
       "    }\n",
       "\n",
       "    .dataframe tbody tr th {\n",
       "        vertical-align: top;\n",
       "    }\n",
       "\n",
       "    .dataframe thead th {\n",
       "        text-align: right;\n",
       "    }\n",
       "</style>\n",
       "<table border=\"1\" class=\"dataframe\">\n",
       "  <thead>\n",
       "    <tr style=\"text-align: right;\">\n",
       "      <th></th>\n",
       "      <th>src_platform_cd</th>\n",
       "      <th>sex_cd</th>\n",
       "      <th>lang_spoken_cd</th>\n",
       "      <th>mabh_seg</th>\n",
       "      <th>cms_ra_factor_type_cd</th>\n",
       "      <th>cons_cmys</th>\n",
       "      <th>cons_hhcomp</th>\n",
       "      <th>cons_homstat</th>\n",
       "      <th>hedis_ami</th>\n",
       "      <th>hedis_cmc_ldc_c_control</th>\n",
       "      <th>hedis_cmc_ldc_c_screen</th>\n",
       "      <th>hedis_dia_eye</th>\n",
       "      <th>hedis_dia_hba1c_ge9</th>\n",
       "      <th>hedis_dia_hba1c_test</th>\n",
       "      <th>hedis_dia_ldc_c_control</th>\n",
       "      <th>hedis_dia_ldc_c_screen</th>\n",
       "      <th>hedis_dia_ma_nephr</th>\n",
       "      <th>rucc_category</th>\n",
       "      <th>num_hospitals</th>\n",
       "    </tr>\n",
       "  </thead>\n",
       "  <tbody>\n",
       "    <tr>\n",
       "      <th>0</th>\n",
       "      <td>EM</td>\n",
       "      <td>F</td>\n",
       "      <td>ENG</td>\n",
       "      <td>UNK</td>\n",
       "      <td>NaN</td>\n",
       "      <td>NaN</td>\n",
       "      <td>NaN</td>\n",
       "      <td>NaN</td>\n",
       "      <td>NaN</td>\n",
       "      <td>NaN</td>\n",
       "      <td>NaN</td>\n",
       "      <td>Y</td>\n",
       "      <td>N</td>\n",
       "      <td>N</td>\n",
       "      <td>N</td>\n",
       "      <td>N</td>\n",
       "      <td>Y</td>\n",
       "      <td>1-Metro</td>\n",
       "      <td>0</td>\n",
       "    </tr>\n",
       "    <tr>\n",
       "      <th>1</th>\n",
       "      <td>EM</td>\n",
       "      <td>F</td>\n",
       "      <td>ENG</td>\n",
       "      <td>C2</td>\n",
       "      <td>CP</td>\n",
       "      <td>4</td>\n",
       "      <td>U</td>\n",
       "      <td>R</td>\n",
       "      <td>NaN</td>\n",
       "      <td>N</td>\n",
       "      <td>Y</td>\n",
       "      <td>Y</td>\n",
       "      <td>N</td>\n",
       "      <td>N</td>\n",
       "      <td>N</td>\n",
       "      <td>Y</td>\n",
       "      <td>N</td>\n",
       "      <td>2-Metro</td>\n",
       "      <td>0</td>\n",
       "    </tr>\n",
       "    <tr>\n",
       "      <th>2</th>\n",
       "      <td>EM</td>\n",
       "      <td>F</td>\n",
       "      <td>ENG</td>\n",
       "      <td>UNK</td>\n",
       "      <td>CN</td>\n",
       "      <td>6</td>\n",
       "      <td>C</td>\n",
       "      <td>R</td>\n",
       "      <td>NaN</td>\n",
       "      <td>NaN</td>\n",
       "      <td>NaN</td>\n",
       "      <td>Y</td>\n",
       "      <td>N</td>\n",
       "      <td>Y</td>\n",
       "      <td>Y</td>\n",
       "      <td>Y</td>\n",
       "      <td>Y</td>\n",
       "      <td>1-Metro</td>\n",
       "      <td>0</td>\n",
       "    </tr>\n",
       "    <tr>\n",
       "      <th>3</th>\n",
       "      <td>EM</td>\n",
       "      <td>M</td>\n",
       "      <td>ENG</td>\n",
       "      <td>H6</td>\n",
       "      <td>CN</td>\n",
       "      <td>NaN</td>\n",
       "      <td>NaN</td>\n",
       "      <td>NaN</td>\n",
       "      <td>NaN</td>\n",
       "      <td>NaN</td>\n",
       "      <td>NaN</td>\n",
       "      <td>Y</td>\n",
       "      <td>N</td>\n",
       "      <td>Y</td>\n",
       "      <td>Y</td>\n",
       "      <td>Y</td>\n",
       "      <td>Y</td>\n",
       "      <td>7-Nonmetro</td>\n",
       "      <td>0</td>\n",
       "    </tr>\n",
       "    <tr>\n",
       "      <th>4</th>\n",
       "      <td>EM</td>\n",
       "      <td>M</td>\n",
       "      <td>ENG</td>\n",
       "      <td>UNK</td>\n",
       "      <td>CF</td>\n",
       "      <td>4</td>\n",
       "      <td>J</td>\n",
       "      <td>R</td>\n",
       "      <td>NaN</td>\n",
       "      <td>NaN</td>\n",
       "      <td>NaN</td>\n",
       "      <td>Y</td>\n",
       "      <td>N</td>\n",
       "      <td>N</td>\n",
       "      <td>Y</td>\n",
       "      <td>Y</td>\n",
       "      <td>Y</td>\n",
       "      <td>1-Metro</td>\n",
       "      <td>0</td>\n",
       "    </tr>\n",
       "    <tr>\n",
       "      <th>...</th>\n",
       "      <td>...</td>\n",
       "      <td>...</td>\n",
       "      <td>...</td>\n",
       "      <td>...</td>\n",
       "      <td>...</td>\n",
       "      <td>...</td>\n",
       "      <td>...</td>\n",
       "      <td>...</td>\n",
       "      <td>...</td>\n",
       "      <td>...</td>\n",
       "      <td>...</td>\n",
       "      <td>...</td>\n",
       "      <td>...</td>\n",
       "      <td>...</td>\n",
       "      <td>...</td>\n",
       "      <td>...</td>\n",
       "      <td>...</td>\n",
       "      <td>...</td>\n",
       "      <td>...</td>\n",
       "    </tr>\n",
       "    <tr>\n",
       "      <th>87248</th>\n",
       "      <td>EM</td>\n",
       "      <td>M</td>\n",
       "      <td>ENG</td>\n",
       "      <td>H7</td>\n",
       "      <td>CN</td>\n",
       "      <td>5</td>\n",
       "      <td>B</td>\n",
       "      <td>Y</td>\n",
       "      <td>NaN</td>\n",
       "      <td>NaN</td>\n",
       "      <td>NaN</td>\n",
       "      <td>Y</td>\n",
       "      <td>N</td>\n",
       "      <td>N</td>\n",
       "      <td>N</td>\n",
       "      <td>Y</td>\n",
       "      <td>Y</td>\n",
       "      <td>1-Metro</td>\n",
       "      <td>78</td>\n",
       "    </tr>\n",
       "    <tr>\n",
       "      <th>87249</th>\n",
       "      <td>LV</td>\n",
       "      <td>M</td>\n",
       "      <td>ENG</td>\n",
       "      <td>H3</td>\n",
       "      <td>CN</td>\n",
       "      <td>3</td>\n",
       "      <td>J</td>\n",
       "      <td>Y</td>\n",
       "      <td>NaN</td>\n",
       "      <td>N</td>\n",
       "      <td>N</td>\n",
       "      <td>Y</td>\n",
       "      <td>N</td>\n",
       "      <td>N</td>\n",
       "      <td>N</td>\n",
       "      <td>N</td>\n",
       "      <td>N</td>\n",
       "      <td>2-Metro</td>\n",
       "      <td>0</td>\n",
       "    </tr>\n",
       "    <tr>\n",
       "      <th>87250</th>\n",
       "      <td>LV</td>\n",
       "      <td>F</td>\n",
       "      <td>ENG</td>\n",
       "      <td>H1</td>\n",
       "      <td>CN</td>\n",
       "      <td>NaN</td>\n",
       "      <td>NaN</td>\n",
       "      <td>NaN</td>\n",
       "      <td>NaN</td>\n",
       "      <td>NaN</td>\n",
       "      <td>NaN</td>\n",
       "      <td>Y</td>\n",
       "      <td>N</td>\n",
       "      <td>N</td>\n",
       "      <td>N</td>\n",
       "      <td>N</td>\n",
       "      <td>Y</td>\n",
       "      <td>3-Metro</td>\n",
       "      <td>0</td>\n",
       "    </tr>\n",
       "    <tr>\n",
       "      <th>87251</th>\n",
       "      <td>EM</td>\n",
       "      <td>F</td>\n",
       "      <td>ENG</td>\n",
       "      <td>H2</td>\n",
       "      <td>CN</td>\n",
       "      <td>4</td>\n",
       "      <td>U</td>\n",
       "      <td>P</td>\n",
       "      <td>NaN</td>\n",
       "      <td>Y</td>\n",
       "      <td>Y</td>\n",
       "      <td>Y</td>\n",
       "      <td>N</td>\n",
       "      <td>N</td>\n",
       "      <td>Y</td>\n",
       "      <td>Y</td>\n",
       "      <td>Y</td>\n",
       "      <td>1-Metro</td>\n",
       "      <td>1</td>\n",
       "    </tr>\n",
       "    <tr>\n",
       "      <th>87252</th>\n",
       "      <td>EM</td>\n",
       "      <td>F</td>\n",
       "      <td>ENG</td>\n",
       "      <td>C2</td>\n",
       "      <td>CN</td>\n",
       "      <td>3</td>\n",
       "      <td>B</td>\n",
       "      <td>Y</td>\n",
       "      <td>NaN</td>\n",
       "      <td>NaN</td>\n",
       "      <td>NaN</td>\n",
       "      <td>Y</td>\n",
       "      <td>Y</td>\n",
       "      <td>Y</td>\n",
       "      <td>Y</td>\n",
       "      <td>Y</td>\n",
       "      <td>Y</td>\n",
       "      <td>1-Metro</td>\n",
       "      <td>0</td>\n",
       "    </tr>\n",
       "  </tbody>\n",
       "</table>\n",
       "<p>87253 rows × 19 columns</p>\n",
       "</div>"
      ],
      "text/plain": [
       "      src_platform_cd sex_cd lang_spoken_cd mabh_seg cms_ra_factor_type_cd  \\\n",
       "0                  EM      F            ENG      UNK                   NaN   \n",
       "1                  EM      F            ENG       C2                    CP   \n",
       "2                  EM      F            ENG      UNK                    CN   \n",
       "3                  EM      M            ENG       H6                    CN   \n",
       "4                  EM      M            ENG      UNK                    CF   \n",
       "...               ...    ...            ...      ...                   ...   \n",
       "87248              EM      M            ENG       H7                    CN   \n",
       "87249              LV      M            ENG       H3                    CN   \n",
       "87250              LV      F            ENG       H1                    CN   \n",
       "87251              EM      F            ENG       H2                    CN   \n",
       "87252              EM      F            ENG       C2                    CN   \n",
       "\n",
       "      cons_cmys cons_hhcomp cons_homstat hedis_ami hedis_cmc_ldc_c_control  \\\n",
       "0           NaN         NaN          NaN       NaN                     NaN   \n",
       "1             4           U            R       NaN                       N   \n",
       "2             6           C            R       NaN                     NaN   \n",
       "3           NaN         NaN          NaN       NaN                     NaN   \n",
       "4             4           J            R       NaN                     NaN   \n",
       "...         ...         ...          ...       ...                     ...   \n",
       "87248         5           B            Y       NaN                     NaN   \n",
       "87249         3           J            Y       NaN                       N   \n",
       "87250       NaN         NaN          NaN       NaN                     NaN   \n",
       "87251         4           U            P       NaN                       Y   \n",
       "87252         3           B            Y       NaN                     NaN   \n",
       "\n",
       "      hedis_cmc_ldc_c_screen hedis_dia_eye hedis_dia_hba1c_ge9  \\\n",
       "0                        NaN             Y                   N   \n",
       "1                          Y             Y                   N   \n",
       "2                        NaN             Y                   N   \n",
       "3                        NaN             Y                   N   \n",
       "4                        NaN             Y                   N   \n",
       "...                      ...           ...                 ...   \n",
       "87248                    NaN             Y                   N   \n",
       "87249                      N             Y                   N   \n",
       "87250                    NaN             Y                   N   \n",
       "87251                      Y             Y                   N   \n",
       "87252                    NaN             Y                   Y   \n",
       "\n",
       "      hedis_dia_hba1c_test hedis_dia_ldc_c_control hedis_dia_ldc_c_screen  \\\n",
       "0                        N                       N                      N   \n",
       "1                        N                       N                      Y   \n",
       "2                        Y                       Y                      Y   \n",
       "3                        Y                       Y                      Y   \n",
       "4                        N                       Y                      Y   \n",
       "...                    ...                     ...                    ...   \n",
       "87248                    N                       N                      Y   \n",
       "87249                    N                       N                      N   \n",
       "87250                    N                       N                      N   \n",
       "87251                    N                       Y                      Y   \n",
       "87252                    Y                       Y                      Y   \n",
       "\n",
       "      hedis_dia_ma_nephr rucc_category num_hospitals  \n",
       "0                      Y       1-Metro             0  \n",
       "1                      N       2-Metro             0  \n",
       "2                      Y       1-Metro             0  \n",
       "3                      Y    7-Nonmetro             0  \n",
       "4                      Y       1-Metro             0  \n",
       "...                  ...           ...           ...  \n",
       "87248                  Y       1-Metro            78  \n",
       "87249                  N       2-Metro             0  \n",
       "87250                  Y       3-Metro             0  \n",
       "87251                  Y       1-Metro             1  \n",
       "87252                  Y       1-Metro             0  \n",
       "\n",
       "[87253 rows x 19 columns]"
      ]
     },
     "execution_count": 27,
     "metadata": {
      "tags": []
     },
     "output_type": "execute_result"
    }
   ],
   "source": [
    "data_object_get_dummies"
   ]
  },
  {
   "cell_type": "code",
   "execution_count": null,
   "metadata": {
    "id": "Z5iHNr2P1VOR"
   },
   "outputs": [],
   "source": [
    "data_dumy = pd.get_dummies(data_object_get_dummies, dummy_na=True)"
   ]
  },
  {
   "cell_type": "code",
   "execution_count": null,
   "metadata": {
    "id": "aKMBsKKx1VOT",
    "outputId": "06f3ff1b-00ff-4cf7-fbab-c5ad801951c9",
    "scrolled": true
   },
   "outputs": [
    {
     "data": {
      "text/html": [
       "<div>\n",
       "<style scoped>\n",
       "    .dataframe tbody tr th:only-of-type {\n",
       "        vertical-align: middle;\n",
       "    }\n",
       "\n",
       "    .dataframe tbody tr th {\n",
       "        vertical-align: top;\n",
       "    }\n",
       "\n",
       "    .dataframe thead th {\n",
       "        text-align: right;\n",
       "    }\n",
       "</style>\n",
       "<table border=\"1\" class=\"dataframe\">\n",
       "  <thead>\n",
       "    <tr style=\"text-align: right;\">\n",
       "      <th></th>\n",
       "      <th>src_platform_cd_EM</th>\n",
       "      <th>src_platform_cd_LV</th>\n",
       "      <th>src_platform_cd_nan</th>\n",
       "      <th>sex_cd_F</th>\n",
       "      <th>sex_cd_M</th>\n",
       "      <th>sex_cd_nan</th>\n",
       "      <th>lang_spoken_cd_E</th>\n",
       "      <th>lang_spoken_cd_ENG</th>\n",
       "      <th>lang_spoken_cd_SPA</th>\n",
       "      <th>lang_spoken_cd_nan</th>\n",
       "      <th>...</th>\n",
       "      <th>num_hospitals_28.0</th>\n",
       "      <th>num_hospitals_30.0</th>\n",
       "      <th>num_hospitals_37.0</th>\n",
       "      <th>num_hospitals_47.0</th>\n",
       "      <th>num_hospitals_57.0</th>\n",
       "      <th>num_hospitals_58.0</th>\n",
       "      <th>num_hospitals_73.0</th>\n",
       "      <th>num_hospitals_78.0</th>\n",
       "      <th>num_hospitals_94.0</th>\n",
       "      <th>num_hospitals_nan</th>\n",
       "    </tr>\n",
       "  </thead>\n",
       "  <tbody>\n",
       "    <tr>\n",
       "      <th>0</th>\n",
       "      <td>1</td>\n",
       "      <td>0</td>\n",
       "      <td>0</td>\n",
       "      <td>1</td>\n",
       "      <td>0</td>\n",
       "      <td>0</td>\n",
       "      <td>0</td>\n",
       "      <td>1</td>\n",
       "      <td>0</td>\n",
       "      <td>0</td>\n",
       "      <td>...</td>\n",
       "      <td>0</td>\n",
       "      <td>0</td>\n",
       "      <td>0</td>\n",
       "      <td>0</td>\n",
       "      <td>0</td>\n",
       "      <td>0</td>\n",
       "      <td>0</td>\n",
       "      <td>0</td>\n",
       "      <td>0</td>\n",
       "      <td>0</td>\n",
       "    </tr>\n",
       "    <tr>\n",
       "      <th>1</th>\n",
       "      <td>1</td>\n",
       "      <td>0</td>\n",
       "      <td>0</td>\n",
       "      <td>1</td>\n",
       "      <td>0</td>\n",
       "      <td>0</td>\n",
       "      <td>0</td>\n",
       "      <td>1</td>\n",
       "      <td>0</td>\n",
       "      <td>0</td>\n",
       "      <td>...</td>\n",
       "      <td>0</td>\n",
       "      <td>0</td>\n",
       "      <td>0</td>\n",
       "      <td>0</td>\n",
       "      <td>0</td>\n",
       "      <td>0</td>\n",
       "      <td>0</td>\n",
       "      <td>0</td>\n",
       "      <td>0</td>\n",
       "      <td>0</td>\n",
       "    </tr>\n",
       "    <tr>\n",
       "      <th>2</th>\n",
       "      <td>1</td>\n",
       "      <td>0</td>\n",
       "      <td>0</td>\n",
       "      <td>1</td>\n",
       "      <td>0</td>\n",
       "      <td>0</td>\n",
       "      <td>0</td>\n",
       "      <td>1</td>\n",
       "      <td>0</td>\n",
       "      <td>0</td>\n",
       "      <td>...</td>\n",
       "      <td>0</td>\n",
       "      <td>0</td>\n",
       "      <td>0</td>\n",
       "      <td>0</td>\n",
       "      <td>0</td>\n",
       "      <td>0</td>\n",
       "      <td>0</td>\n",
       "      <td>0</td>\n",
       "      <td>0</td>\n",
       "      <td>0</td>\n",
       "    </tr>\n",
       "    <tr>\n",
       "      <th>3</th>\n",
       "      <td>1</td>\n",
       "      <td>0</td>\n",
       "      <td>0</td>\n",
       "      <td>0</td>\n",
       "      <td>1</td>\n",
       "      <td>0</td>\n",
       "      <td>0</td>\n",
       "      <td>1</td>\n",
       "      <td>0</td>\n",
       "      <td>0</td>\n",
       "      <td>...</td>\n",
       "      <td>0</td>\n",
       "      <td>0</td>\n",
       "      <td>0</td>\n",
       "      <td>0</td>\n",
       "      <td>0</td>\n",
       "      <td>0</td>\n",
       "      <td>0</td>\n",
       "      <td>0</td>\n",
       "      <td>0</td>\n",
       "      <td>0</td>\n",
       "    </tr>\n",
       "    <tr>\n",
       "      <th>4</th>\n",
       "      <td>1</td>\n",
       "      <td>0</td>\n",
       "      <td>0</td>\n",
       "      <td>0</td>\n",
       "      <td>1</td>\n",
       "      <td>0</td>\n",
       "      <td>0</td>\n",
       "      <td>1</td>\n",
       "      <td>0</td>\n",
       "      <td>0</td>\n",
       "      <td>...</td>\n",
       "      <td>0</td>\n",
       "      <td>0</td>\n",
       "      <td>0</td>\n",
       "      <td>0</td>\n",
       "      <td>0</td>\n",
       "      <td>0</td>\n",
       "      <td>0</td>\n",
       "      <td>0</td>\n",
       "      <td>0</td>\n",
       "      <td>0</td>\n",
       "    </tr>\n",
       "    <tr>\n",
       "      <th>...</th>\n",
       "      <td>...</td>\n",
       "      <td>...</td>\n",
       "      <td>...</td>\n",
       "      <td>...</td>\n",
       "      <td>...</td>\n",
       "      <td>...</td>\n",
       "      <td>...</td>\n",
       "      <td>...</td>\n",
       "      <td>...</td>\n",
       "      <td>...</td>\n",
       "      <td>...</td>\n",
       "      <td>...</td>\n",
       "      <td>...</td>\n",
       "      <td>...</td>\n",
       "      <td>...</td>\n",
       "      <td>...</td>\n",
       "      <td>...</td>\n",
       "      <td>...</td>\n",
       "      <td>...</td>\n",
       "      <td>...</td>\n",
       "      <td>...</td>\n",
       "    </tr>\n",
       "    <tr>\n",
       "      <th>87248</th>\n",
       "      <td>1</td>\n",
       "      <td>0</td>\n",
       "      <td>0</td>\n",
       "      <td>0</td>\n",
       "      <td>1</td>\n",
       "      <td>0</td>\n",
       "      <td>0</td>\n",
       "      <td>1</td>\n",
       "      <td>0</td>\n",
       "      <td>0</td>\n",
       "      <td>...</td>\n",
       "      <td>0</td>\n",
       "      <td>0</td>\n",
       "      <td>0</td>\n",
       "      <td>0</td>\n",
       "      <td>0</td>\n",
       "      <td>0</td>\n",
       "      <td>0</td>\n",
       "      <td>1</td>\n",
       "      <td>0</td>\n",
       "      <td>0</td>\n",
       "    </tr>\n",
       "    <tr>\n",
       "      <th>87249</th>\n",
       "      <td>0</td>\n",
       "      <td>1</td>\n",
       "      <td>0</td>\n",
       "      <td>0</td>\n",
       "      <td>1</td>\n",
       "      <td>0</td>\n",
       "      <td>0</td>\n",
       "      <td>1</td>\n",
       "      <td>0</td>\n",
       "      <td>0</td>\n",
       "      <td>...</td>\n",
       "      <td>0</td>\n",
       "      <td>0</td>\n",
       "      <td>0</td>\n",
       "      <td>0</td>\n",
       "      <td>0</td>\n",
       "      <td>0</td>\n",
       "      <td>0</td>\n",
       "      <td>0</td>\n",
       "      <td>0</td>\n",
       "      <td>0</td>\n",
       "    </tr>\n",
       "    <tr>\n",
       "      <th>87250</th>\n",
       "      <td>0</td>\n",
       "      <td>1</td>\n",
       "      <td>0</td>\n",
       "      <td>1</td>\n",
       "      <td>0</td>\n",
       "      <td>0</td>\n",
       "      <td>0</td>\n",
       "      <td>1</td>\n",
       "      <td>0</td>\n",
       "      <td>0</td>\n",
       "      <td>...</td>\n",
       "      <td>0</td>\n",
       "      <td>0</td>\n",
       "      <td>0</td>\n",
       "      <td>0</td>\n",
       "      <td>0</td>\n",
       "      <td>0</td>\n",
       "      <td>0</td>\n",
       "      <td>0</td>\n",
       "      <td>0</td>\n",
       "      <td>0</td>\n",
       "    </tr>\n",
       "    <tr>\n",
       "      <th>87251</th>\n",
       "      <td>1</td>\n",
       "      <td>0</td>\n",
       "      <td>0</td>\n",
       "      <td>1</td>\n",
       "      <td>0</td>\n",
       "      <td>0</td>\n",
       "      <td>0</td>\n",
       "      <td>1</td>\n",
       "      <td>0</td>\n",
       "      <td>0</td>\n",
       "      <td>...</td>\n",
       "      <td>0</td>\n",
       "      <td>0</td>\n",
       "      <td>0</td>\n",
       "      <td>0</td>\n",
       "      <td>0</td>\n",
       "      <td>0</td>\n",
       "      <td>0</td>\n",
       "      <td>0</td>\n",
       "      <td>0</td>\n",
       "      <td>0</td>\n",
       "    </tr>\n",
       "    <tr>\n",
       "      <th>87252</th>\n",
       "      <td>1</td>\n",
       "      <td>0</td>\n",
       "      <td>0</td>\n",
       "      <td>1</td>\n",
       "      <td>0</td>\n",
       "      <td>0</td>\n",
       "      <td>0</td>\n",
       "      <td>1</td>\n",
       "      <td>0</td>\n",
       "      <td>0</td>\n",
       "      <td>...</td>\n",
       "      <td>0</td>\n",
       "      <td>0</td>\n",
       "      <td>0</td>\n",
       "      <td>0</td>\n",
       "      <td>0</td>\n",
       "      <td>0</td>\n",
       "      <td>0</td>\n",
       "      <td>0</td>\n",
       "      <td>0</td>\n",
       "      <td>0</td>\n",
       "    </tr>\n",
       "  </tbody>\n",
       "</table>\n",
       "<p>87253 rows × 143 columns</p>\n",
       "</div>"
      ],
      "text/plain": [
       "       src_platform_cd_EM  src_platform_cd_LV  src_platform_cd_nan  sex_cd_F  \\\n",
       "0                       1                   0                    0         1   \n",
       "1                       1                   0                    0         1   \n",
       "2                       1                   0                    0         1   \n",
       "3                       1                   0                    0         0   \n",
       "4                       1                   0                    0         0   \n",
       "...                   ...                 ...                  ...       ...   \n",
       "87248                   1                   0                    0         0   \n",
       "87249                   0                   1                    0         0   \n",
       "87250                   0                   1                    0         1   \n",
       "87251                   1                   0                    0         1   \n",
       "87252                   1                   0                    0         1   \n",
       "\n",
       "       sex_cd_M  sex_cd_nan  lang_spoken_cd_E  lang_spoken_cd_ENG  \\\n",
       "0             0           0                 0                   1   \n",
       "1             0           0                 0                   1   \n",
       "2             0           0                 0                   1   \n",
       "3             1           0                 0                   1   \n",
       "4             1           0                 0                   1   \n",
       "...         ...         ...               ...                 ...   \n",
       "87248         1           0                 0                   1   \n",
       "87249         1           0                 0                   1   \n",
       "87250         0           0                 0                   1   \n",
       "87251         0           0                 0                   1   \n",
       "87252         0           0                 0                   1   \n",
       "\n",
       "       lang_spoken_cd_SPA  lang_spoken_cd_nan  ...  num_hospitals_28.0  \\\n",
       "0                       0                   0  ...                   0   \n",
       "1                       0                   0  ...                   0   \n",
       "2                       0                   0  ...                   0   \n",
       "3                       0                   0  ...                   0   \n",
       "4                       0                   0  ...                   0   \n",
       "...                   ...                 ...  ...                 ...   \n",
       "87248                   0                   0  ...                   0   \n",
       "87249                   0                   0  ...                   0   \n",
       "87250                   0                   0  ...                   0   \n",
       "87251                   0                   0  ...                   0   \n",
       "87252                   0                   0  ...                   0   \n",
       "\n",
       "       num_hospitals_30.0  num_hospitals_37.0  num_hospitals_47.0  \\\n",
       "0                       0                   0                   0   \n",
       "1                       0                   0                   0   \n",
       "2                       0                   0                   0   \n",
       "3                       0                   0                   0   \n",
       "4                       0                   0                   0   \n",
       "...                   ...                 ...                 ...   \n",
       "87248                   0                   0                   0   \n",
       "87249                   0                   0                   0   \n",
       "87250                   0                   0                   0   \n",
       "87251                   0                   0                   0   \n",
       "87252                   0                   0                   0   \n",
       "\n",
       "       num_hospitals_57.0  num_hospitals_58.0  num_hospitals_73.0  \\\n",
       "0                       0                   0                   0   \n",
       "1                       0                   0                   0   \n",
       "2                       0                   0                   0   \n",
       "3                       0                   0                   0   \n",
       "4                       0                   0                   0   \n",
       "...                   ...                 ...                 ...   \n",
       "87248                   0                   0                   0   \n",
       "87249                   0                   0                   0   \n",
       "87250                   0                   0                   0   \n",
       "87251                   0                   0                   0   \n",
       "87252                   0                   0                   0   \n",
       "\n",
       "       num_hospitals_78.0  num_hospitals_94.0  num_hospitals_nan  \n",
       "0                       0                   0                  0  \n",
       "1                       0                   0                  0  \n",
       "2                       0                   0                  0  \n",
       "3                       0                   0                  0  \n",
       "4                       0                   0                  0  \n",
       "...                   ...                 ...                ...  \n",
       "87248                   1                   0                  0  \n",
       "87249                   0                   0                  0  \n",
       "87250                   0                   0                  0  \n",
       "87251                   0                   0                  0  \n",
       "87252                   0                   0                  0  \n",
       "\n",
       "[87253 rows x 143 columns]"
      ]
     },
     "execution_count": 29,
     "metadata": {
      "tags": []
     },
     "output_type": "execute_result"
    }
   ],
   "source": [
    "data_dumy"
   ]
  },
  {
   "cell_type": "code",
   "execution_count": null,
   "metadata": {
    "id": "725rPJDb1VOW",
    "outputId": "1d6d613f-7ea8-4fa4-8e9e-897c1dbbd283",
    "scrolled": false
   },
   "outputs": [
    {
     "data": {
      "text/plain": [
       "[]"
      ]
     },
     "execution_count": 30,
     "metadata": {
      "tags": []
     },
     "output_type": "execute_result"
    }
   ],
   "source": [
    "data_dumy.columns[data_dumy.isna().any()].tolist()"
   ]
  },
  {
   "cell_type": "markdown",
   "metadata": {
    "id": "s3V1-uCt1VOY"
   },
   "source": [
    "## Deal with non-object columns"
   ]
  },
  {
   "cell_type": "code",
   "execution_count": null,
   "metadata": {
    "id": "KBANi_QV1VOZ"
   },
   "outputs": [],
   "source": [
    "data_not_object=data.loc[:, data.dtypes != object]"
   ]
  },
  {
   "cell_type": "code",
   "execution_count": null,
   "metadata": {
    "id": "_l9ny4zf1VOb",
    "outputId": "5c89fe8c-4789-45d8-fd8a-7689a8e12081",
    "scrolled": true
   },
   "outputs": [
    {
     "data": {
      "text/plain": [
       "float64    443\n",
       "int64      361\n",
       "dtype: int64"
      ]
     },
     "execution_count": 32,
     "metadata": {
      "tags": []
     },
     "output_type": "execute_result"
    }
   ],
   "source": [
    "data_not_object.dtypes.value_counts()"
   ]
  },
  {
   "cell_type": "code",
   "execution_count": null,
   "metadata": {
    "id": "Yh0KRzAf1VOd"
   },
   "outputs": [],
   "source": [
    "bool_cols = [col for col in data_not_object \n",
    "              if np.isin(data_not_object[col].dropna().unique(), [0, 1]).all()]\n",
    "data_binary=data_not_object[bool_cols]"
   ]
  },
  {
   "cell_type": "code",
   "execution_count": null,
   "metadata": {
    "id": "3m1ywTVw1VOf",
    "outputId": "fc050e03-7e9f-4923-aa4a-c4ecb77ac8c9",
    "scrolled": false
   },
   "outputs": [
    {
     "data": {
      "text/html": [
       "<div>\n",
       "<style scoped>\n",
       "    .dataframe tbody tr th:only-of-type {\n",
       "        vertical-align: middle;\n",
       "    }\n",
       "\n",
       "    .dataframe tbody tr th {\n",
       "        vertical-align: top;\n",
       "    }\n",
       "\n",
       "    .dataframe thead th {\n",
       "        text-align: right;\n",
       "    }\n",
       "</style>\n",
       "<table border=\"1\" class=\"dataframe\">\n",
       "  <thead>\n",
       "    <tr style=\"text-align: right;\">\n",
       "      <th></th>\n",
       "      <th>smoker_current_ind</th>\n",
       "      <th>smoker_former_ind</th>\n",
       "      <th>bh_adtp_ind</th>\n",
       "      <th>bh_aoth_ind</th>\n",
       "      <th>bh_bipr_ind</th>\n",
       "      <th>bh_cdal_ind</th>\n",
       "      <th>bh_cdsb_ind</th>\n",
       "      <th>bh_cdto_ind</th>\n",
       "      <th>bh_dema_ind</th>\n",
       "      <th>ccsp_014_ind</th>\n",
       "      <th>...</th>\n",
       "      <th>submcc_rar_scl_ind</th>\n",
       "      <th>rx_gpi2_74_ind</th>\n",
       "      <th>rx_gpi2_89_ind</th>\n",
       "      <th>rx_gpi2_96_ind</th>\n",
       "      <th>submcc_rsk_obe_ind</th>\n",
       "      <th>rx_gpi2_22_ind</th>\n",
       "      <th>submcc_rsk_synx_ind</th>\n",
       "      <th>submcc_rsk_coag_ind</th>\n",
       "      <th>submcc_rsk_othr_ind</th>\n",
       "      <th>submcc_rsk_chol_ind</th>\n",
       "    </tr>\n",
       "  </thead>\n",
       "  <tbody>\n",
       "    <tr>\n",
       "      <th>0</th>\n",
       "      <td>1</td>\n",
       "      <td>0</td>\n",
       "      <td>0</td>\n",
       "      <td>0</td>\n",
       "      <td>0</td>\n",
       "      <td>0</td>\n",
       "      <td>0</td>\n",
       "      <td>1</td>\n",
       "      <td>0</td>\n",
       "      <td>0</td>\n",
       "      <td>...</td>\n",
       "      <td>0</td>\n",
       "      <td>0</td>\n",
       "      <td>0</td>\n",
       "      <td>0</td>\n",
       "      <td>0</td>\n",
       "      <td>0</td>\n",
       "      <td>0</td>\n",
       "      <td>0</td>\n",
       "      <td>0</td>\n",
       "      <td>0</td>\n",
       "    </tr>\n",
       "    <tr>\n",
       "      <th>1</th>\n",
       "      <td>1</td>\n",
       "      <td>0</td>\n",
       "      <td>0</td>\n",
       "      <td>1</td>\n",
       "      <td>0</td>\n",
       "      <td>0</td>\n",
       "      <td>0</td>\n",
       "      <td>1</td>\n",
       "      <td>1</td>\n",
       "      <td>0</td>\n",
       "      <td>...</td>\n",
       "      <td>0</td>\n",
       "      <td>0</td>\n",
       "      <td>0</td>\n",
       "      <td>0</td>\n",
       "      <td>1</td>\n",
       "      <td>0</td>\n",
       "      <td>0</td>\n",
       "      <td>0</td>\n",
       "      <td>0</td>\n",
       "      <td>1</td>\n",
       "    </tr>\n",
       "    <tr>\n",
       "      <th>2</th>\n",
       "      <td>0</td>\n",
       "      <td>0</td>\n",
       "      <td>0</td>\n",
       "      <td>0</td>\n",
       "      <td>0</td>\n",
       "      <td>0</td>\n",
       "      <td>0</td>\n",
       "      <td>0</td>\n",
       "      <td>0</td>\n",
       "      <td>0</td>\n",
       "      <td>...</td>\n",
       "      <td>0</td>\n",
       "      <td>0</td>\n",
       "      <td>0</td>\n",
       "      <td>0</td>\n",
       "      <td>0</td>\n",
       "      <td>0</td>\n",
       "      <td>0</td>\n",
       "      <td>0</td>\n",
       "      <td>0</td>\n",
       "      <td>1</td>\n",
       "    </tr>\n",
       "    <tr>\n",
       "      <th>3</th>\n",
       "      <td>0</td>\n",
       "      <td>0</td>\n",
       "      <td>0</td>\n",
       "      <td>0</td>\n",
       "      <td>0</td>\n",
       "      <td>0</td>\n",
       "      <td>0</td>\n",
       "      <td>0</td>\n",
       "      <td>0</td>\n",
       "      <td>0</td>\n",
       "      <td>...</td>\n",
       "      <td>0</td>\n",
       "      <td>0</td>\n",
       "      <td>0</td>\n",
       "      <td>0</td>\n",
       "      <td>1</td>\n",
       "      <td>0</td>\n",
       "      <td>0</td>\n",
       "      <td>0</td>\n",
       "      <td>0</td>\n",
       "      <td>1</td>\n",
       "    </tr>\n",
       "    <tr>\n",
       "      <th>4</th>\n",
       "      <td>1</td>\n",
       "      <td>0</td>\n",
       "      <td>0</td>\n",
       "      <td>0</td>\n",
       "      <td>0</td>\n",
       "      <td>0</td>\n",
       "      <td>0</td>\n",
       "      <td>1</td>\n",
       "      <td>0</td>\n",
       "      <td>0</td>\n",
       "      <td>...</td>\n",
       "      <td>0</td>\n",
       "      <td>0</td>\n",
       "      <td>0</td>\n",
       "      <td>0</td>\n",
       "      <td>0</td>\n",
       "      <td>0</td>\n",
       "      <td>0</td>\n",
       "      <td>0</td>\n",
       "      <td>0</td>\n",
       "      <td>1</td>\n",
       "    </tr>\n",
       "    <tr>\n",
       "      <th>...</th>\n",
       "      <td>...</td>\n",
       "      <td>...</td>\n",
       "      <td>...</td>\n",
       "      <td>...</td>\n",
       "      <td>...</td>\n",
       "      <td>...</td>\n",
       "      <td>...</td>\n",
       "      <td>...</td>\n",
       "      <td>...</td>\n",
       "      <td>...</td>\n",
       "      <td>...</td>\n",
       "      <td>...</td>\n",
       "      <td>...</td>\n",
       "      <td>...</td>\n",
       "      <td>...</td>\n",
       "      <td>...</td>\n",
       "      <td>...</td>\n",
       "      <td>...</td>\n",
       "      <td>...</td>\n",
       "      <td>...</td>\n",
       "      <td>...</td>\n",
       "    </tr>\n",
       "    <tr>\n",
       "      <th>87248</th>\n",
       "      <td>0</td>\n",
       "      <td>0</td>\n",
       "      <td>0</td>\n",
       "      <td>0</td>\n",
       "      <td>0</td>\n",
       "      <td>0</td>\n",
       "      <td>0</td>\n",
       "      <td>1</td>\n",
       "      <td>0</td>\n",
       "      <td>0</td>\n",
       "      <td>...</td>\n",
       "      <td>0</td>\n",
       "      <td>0</td>\n",
       "      <td>0</td>\n",
       "      <td>0</td>\n",
       "      <td>0</td>\n",
       "      <td>0</td>\n",
       "      <td>0</td>\n",
       "      <td>0</td>\n",
       "      <td>0</td>\n",
       "      <td>0</td>\n",
       "    </tr>\n",
       "    <tr>\n",
       "      <th>87249</th>\n",
       "      <td>0</td>\n",
       "      <td>1</td>\n",
       "      <td>0</td>\n",
       "      <td>0</td>\n",
       "      <td>0</td>\n",
       "      <td>0</td>\n",
       "      <td>0</td>\n",
       "      <td>0</td>\n",
       "      <td>0</td>\n",
       "      <td>0</td>\n",
       "      <td>...</td>\n",
       "      <td>0</td>\n",
       "      <td>0</td>\n",
       "      <td>0</td>\n",
       "      <td>0</td>\n",
       "      <td>0</td>\n",
       "      <td>0</td>\n",
       "      <td>0</td>\n",
       "      <td>0</td>\n",
       "      <td>0</td>\n",
       "      <td>1</td>\n",
       "    </tr>\n",
       "    <tr>\n",
       "      <th>87250</th>\n",
       "      <td>0</td>\n",
       "      <td>0</td>\n",
       "      <td>0</td>\n",
       "      <td>0</td>\n",
       "      <td>0</td>\n",
       "      <td>0</td>\n",
       "      <td>0</td>\n",
       "      <td>0</td>\n",
       "      <td>0</td>\n",
       "      <td>0</td>\n",
       "      <td>...</td>\n",
       "      <td>0</td>\n",
       "      <td>0</td>\n",
       "      <td>0</td>\n",
       "      <td>0</td>\n",
       "      <td>0</td>\n",
       "      <td>0</td>\n",
       "      <td>0</td>\n",
       "      <td>0</td>\n",
       "      <td>0</td>\n",
       "      <td>0</td>\n",
       "    </tr>\n",
       "    <tr>\n",
       "      <th>87251</th>\n",
       "      <td>0</td>\n",
       "      <td>0</td>\n",
       "      <td>0</td>\n",
       "      <td>0</td>\n",
       "      <td>0</td>\n",
       "      <td>0</td>\n",
       "      <td>0</td>\n",
       "      <td>0</td>\n",
       "      <td>0</td>\n",
       "      <td>0</td>\n",
       "      <td>...</td>\n",
       "      <td>0</td>\n",
       "      <td>0</td>\n",
       "      <td>0</td>\n",
       "      <td>0</td>\n",
       "      <td>0</td>\n",
       "      <td>0</td>\n",
       "      <td>0</td>\n",
       "      <td>0</td>\n",
       "      <td>0</td>\n",
       "      <td>1</td>\n",
       "    </tr>\n",
       "    <tr>\n",
       "      <th>87252</th>\n",
       "      <td>1</td>\n",
       "      <td>0</td>\n",
       "      <td>0</td>\n",
       "      <td>0</td>\n",
       "      <td>0</td>\n",
       "      <td>0</td>\n",
       "      <td>0</td>\n",
       "      <td>1</td>\n",
       "      <td>0</td>\n",
       "      <td>0</td>\n",
       "      <td>...</td>\n",
       "      <td>0</td>\n",
       "      <td>0</td>\n",
       "      <td>0</td>\n",
       "      <td>0</td>\n",
       "      <td>1</td>\n",
       "      <td>1</td>\n",
       "      <td>0</td>\n",
       "      <td>0</td>\n",
       "      <td>0</td>\n",
       "      <td>1</td>\n",
       "    </tr>\n",
       "  </tbody>\n",
       "</table>\n",
       "<p>87253 rows × 413 columns</p>\n",
       "</div>"
      ],
      "text/plain": [
       "       smoker_current_ind  smoker_former_ind  bh_adtp_ind  bh_aoth_ind  \\\n",
       "0                       1                  0            0            0   \n",
       "1                       1                  0            0            1   \n",
       "2                       0                  0            0            0   \n",
       "3                       0                  0            0            0   \n",
       "4                       1                  0            0            0   \n",
       "...                   ...                ...          ...          ...   \n",
       "87248                   0                  0            0            0   \n",
       "87249                   0                  1            0            0   \n",
       "87250                   0                  0            0            0   \n",
       "87251                   0                  0            0            0   \n",
       "87252                   1                  0            0            0   \n",
       "\n",
       "       bh_bipr_ind  bh_cdal_ind  bh_cdsb_ind  bh_cdto_ind  bh_dema_ind  \\\n",
       "0                0            0            0            1            0   \n",
       "1                0            0            0            1            1   \n",
       "2                0            0            0            0            0   \n",
       "3                0            0            0            0            0   \n",
       "4                0            0            0            1            0   \n",
       "...            ...          ...          ...          ...          ...   \n",
       "87248            0            0            0            1            0   \n",
       "87249            0            0            0            0            0   \n",
       "87250            0            0            0            0            0   \n",
       "87251            0            0            0            0            0   \n",
       "87252            0            0            0            1            0   \n",
       "\n",
       "       ccsp_014_ind  ...  submcc_rar_scl_ind  rx_gpi2_74_ind  rx_gpi2_89_ind  \\\n",
       "0                 0  ...                   0               0               0   \n",
       "1                 0  ...                   0               0               0   \n",
       "2                 0  ...                   0               0               0   \n",
       "3                 0  ...                   0               0               0   \n",
       "4                 0  ...                   0               0               0   \n",
       "...             ...  ...                 ...             ...             ...   \n",
       "87248             0  ...                   0               0               0   \n",
       "87249             0  ...                   0               0               0   \n",
       "87250             0  ...                   0               0               0   \n",
       "87251             0  ...                   0               0               0   \n",
       "87252             0  ...                   0               0               0   \n",
       "\n",
       "       rx_gpi2_96_ind  submcc_rsk_obe_ind  rx_gpi2_22_ind  \\\n",
       "0                   0                   0               0   \n",
       "1                   0                   1               0   \n",
       "2                   0                   0               0   \n",
       "3                   0                   1               0   \n",
       "4                   0                   0               0   \n",
       "...               ...                 ...             ...   \n",
       "87248               0                   0               0   \n",
       "87249               0                   0               0   \n",
       "87250               0                   0               0   \n",
       "87251               0                   0               0   \n",
       "87252               0                   1               1   \n",
       "\n",
       "       submcc_rsk_synx_ind  submcc_rsk_coag_ind  submcc_rsk_othr_ind  \\\n",
       "0                        0                    0                    0   \n",
       "1                        0                    0                    0   \n",
       "2                        0                    0                    0   \n",
       "3                        0                    0                    0   \n",
       "4                        0                    0                    0   \n",
       "...                    ...                  ...                  ...   \n",
       "87248                    0                    0                    0   \n",
       "87249                    0                    0                    0   \n",
       "87250                    0                    0                    0   \n",
       "87251                    0                    0                    0   \n",
       "87252                    0                    0                    0   \n",
       "\n",
       "       submcc_rsk_chol_ind  \n",
       "0                        0  \n",
       "1                        1  \n",
       "2                        1  \n",
       "3                        1  \n",
       "4                        1  \n",
       "...                    ...  \n",
       "87248                    0  \n",
       "87249                    1  \n",
       "87250                    0  \n",
       "87251                    1  \n",
       "87252                    1  \n",
       "\n",
       "[87253 rows x 413 columns]"
      ]
     },
     "execution_count": 34,
     "metadata": {
      "tags": []
     },
     "output_type": "execute_result"
    }
   ],
   "source": [
    "data_binary"
   ]
  },
  {
   "cell_type": "code",
   "execution_count": null,
   "metadata": {
    "id": "2f9BO2yc1VOh",
    "outputId": "d841fefd-caa1-4696-eefa-610e786efff3"
   },
   "outputs": [
    {
     "data": {
      "text/plain": [
       "Index(['smoker_current_ind', 'smoker_former_ind', 'bh_adtp_ind', 'bh_aoth_ind',\n",
       "       'bh_bipr_ind', 'bh_cdal_ind', 'bh_cdsb_ind', 'bh_cdto_ind',\n",
       "       'bh_dema_ind', 'ccsp_014_ind',\n",
       "       ...\n",
       "       'submcc_rar_scl_ind', 'rx_gpi2_74_ind', 'rx_gpi2_89_ind',\n",
       "       'rx_gpi2_96_ind', 'submcc_rsk_obe_ind', 'rx_gpi2_22_ind',\n",
       "       'submcc_rsk_synx_ind', 'submcc_rsk_coag_ind', 'submcc_rsk_othr_ind',\n",
       "       'submcc_rsk_chol_ind'],\n",
       "      dtype='object', length=413)"
      ]
     },
     "execution_count": 35,
     "metadata": {
      "tags": []
     },
     "output_type": "execute_result"
    }
   ],
   "source": [
    "data_binary.columns"
   ]
  },
  {
   "cell_type": "code",
   "execution_count": null,
   "metadata": {
    "id": "ITiHavys1VOk"
   },
   "outputs": [],
   "source": [
    "list_binary=data_binary.columns[0:413]"
   ]
  },
  {
   "cell_type": "code",
   "execution_count": null,
   "metadata": {
    "id": "Mgv4NA3y1VOo",
    "outputId": "cd1164ec-96f4-44a9-86f0-b53b1a8a66d4"
   },
   "outputs": [
    {
     "data": {
      "text/plain": [
       "Index(['smoker_current_ind', 'smoker_former_ind', 'bh_adtp_ind', 'bh_aoth_ind',\n",
       "       'bh_bipr_ind', 'bh_cdal_ind', 'bh_cdsb_ind', 'bh_cdto_ind',\n",
       "       'bh_dema_ind', 'ccsp_014_ind',\n",
       "       ...\n",
       "       'submcc_rar_scl_ind', 'rx_gpi2_74_ind', 'rx_gpi2_89_ind',\n",
       "       'rx_gpi2_96_ind', 'submcc_rsk_obe_ind', 'rx_gpi2_22_ind',\n",
       "       'submcc_rsk_synx_ind', 'submcc_rsk_coag_ind', 'submcc_rsk_othr_ind',\n",
       "       'submcc_rsk_chol_ind'],\n",
       "      dtype='object', length=413)"
      ]
     },
     "execution_count": 37,
     "metadata": {
      "tags": []
     },
     "output_type": "execute_result"
    }
   ],
   "source": [
    "list_binary"
   ]
  },
  {
   "cell_type": "code",
   "execution_count": null,
   "metadata": {
    "id": "cNLzhubb1VOq",
    "scrolled": true
   },
   "outputs": [],
   "source": [
    "cat=data_binary[list_binary].astype('object')"
   ]
  },
  {
   "cell_type": "code",
   "execution_count": null,
   "metadata": {
    "id": "F1Lezrdw1VOs"
   },
   "outputs": [],
   "source": [
    "good_binary=pd.get_dummies(cat, dummy_na=True)"
   ]
  },
  {
   "cell_type": "code",
   "execution_count": null,
   "metadata": {
    "id": "GgSZWm541VOv"
   },
   "outputs": [],
   "source": [
    "list_not_binary=np.setdiff1d(data_not_object.columns, data_binary.columns)"
   ]
  },
  {
   "cell_type": "code",
   "execution_count": null,
   "metadata": {
    "id": "OdX_osi61VO0",
    "outputId": "8225359f-d8fb-408b-f519-6f6fc4beb5fc"
   },
   "outputs": [
    {
     "data": {
      "text/html": [
       "<div>\n",
       "<style scoped>\n",
       "    .dataframe tbody tr th:only-of-type {\n",
       "        vertical-align: middle;\n",
       "    }\n",
       "\n",
       "    .dataframe tbody tr th {\n",
       "        vertical-align: top;\n",
       "    }\n",
       "\n",
       "    .dataframe thead th {\n",
       "        text-align: right;\n",
       "    }\n",
       "</style>\n",
       "<table border=\"1\" class=\"dataframe\">\n",
       "  <thead>\n",
       "    <tr style=\"text-align: right;\">\n",
       "      <th></th>\n",
       "      <th>betos_d1c_pmpm_ct</th>\n",
       "      <th>betos_d1d_pmpm_ct</th>\n",
       "      <th>betos_m1b_pmpm_ct</th>\n",
       "      <th>betos_m2c_pmpm_ct</th>\n",
       "      <th>betos_m5b_pmpm_ct</th>\n",
       "      <th>betos_m5c_pmpm_ct</th>\n",
       "      <th>betos_m5d_pmpm_ct</th>\n",
       "      <th>betos_o1a_pmpm_ct</th>\n",
       "      <th>betos_o1b_pmpm_ct</th>\n",
       "      <th>betos_o1e_pmpm_ct</th>\n",
       "      <th>...</th>\n",
       "      <th>total_ip_acute_admit_days_pmpm</th>\n",
       "      <th>total_ip_mhsa_admit_ct_pmpm</th>\n",
       "      <th>total_ip_mhsa_admit_days_pmpm</th>\n",
       "      <th>total_ip_rehab_admit_ct_pmpm</th>\n",
       "      <th>total_ip_rehab_admit_days_pmpm</th>\n",
       "      <th>total_ip_snf_admit_ct_pmpm</th>\n",
       "      <th>total_ip_snf_admit_days_pmpm</th>\n",
       "      <th>total_outpatient_visit_ct_pmpm</th>\n",
       "      <th>total_physician_office_visit_ct_pmpm</th>\n",
       "      <th>total_urgent_care_visit_ct_pmpm</th>\n",
       "    </tr>\n",
       "  </thead>\n",
       "  <tbody>\n",
       "    <tr>\n",
       "      <th>0</th>\n",
       "      <td>0.0</td>\n",
       "      <td>0.0</td>\n",
       "      <td>1.162658</td>\n",
       "      <td>0.0</td>\n",
       "      <td>0.0</td>\n",
       "      <td>0.000000</td>\n",
       "      <td>0.000000</td>\n",
       "      <td>0.000000</td>\n",
       "      <td>0.0</td>\n",
       "      <td>0.000000</td>\n",
       "      <td>...</td>\n",
       "      <td>0.000000</td>\n",
       "      <td>0.0</td>\n",
       "      <td>0.0</td>\n",
       "      <td>0.0</td>\n",
       "      <td>0.0</td>\n",
       "      <td>0.0</td>\n",
       "      <td>0.0</td>\n",
       "      <td>0.000000</td>\n",
       "      <td>0.250900</td>\n",
       "      <td>0.0</td>\n",
       "    </tr>\n",
       "    <tr>\n",
       "      <th>1</th>\n",
       "      <td>0.0</td>\n",
       "      <td>0.0</td>\n",
       "      <td>1.155124</td>\n",
       "      <td>0.0</td>\n",
       "      <td>0.0</td>\n",
       "      <td>0.085593</td>\n",
       "      <td>0.085873</td>\n",
       "      <td>0.000000</td>\n",
       "      <td>0.0</td>\n",
       "      <td>0.000000</td>\n",
       "      <td>...</td>\n",
       "      <td>0.000000</td>\n",
       "      <td>0.0</td>\n",
       "      <td>0.0</td>\n",
       "      <td>0.0</td>\n",
       "      <td>0.0</td>\n",
       "      <td>0.0</td>\n",
       "      <td>0.0</td>\n",
       "      <td>0.000000</td>\n",
       "      <td>0.172128</td>\n",
       "      <td>0.0</td>\n",
       "    </tr>\n",
       "    <tr>\n",
       "      <th>2</th>\n",
       "      <td>0.0</td>\n",
       "      <td>0.0</td>\n",
       "      <td>0.333333</td>\n",
       "      <td>0.0</td>\n",
       "      <td>0.0</td>\n",
       "      <td>0.133333</td>\n",
       "      <td>0.083333</td>\n",
       "      <td>1.250000</td>\n",
       "      <td>0.0</td>\n",
       "      <td>0.166667</td>\n",
       "      <td>...</td>\n",
       "      <td>0.000000</td>\n",
       "      <td>0.0</td>\n",
       "      <td>0.0</td>\n",
       "      <td>0.0</td>\n",
       "      <td>0.0</td>\n",
       "      <td>0.0</td>\n",
       "      <td>0.0</td>\n",
       "      <td>0.500000</td>\n",
       "      <td>0.416667</td>\n",
       "      <td>0.0</td>\n",
       "    </tr>\n",
       "    <tr>\n",
       "      <th>3</th>\n",
       "      <td>0.0</td>\n",
       "      <td>0.0</td>\n",
       "      <td>0.250000</td>\n",
       "      <td>0.0</td>\n",
       "      <td>0.0</td>\n",
       "      <td>0.000000</td>\n",
       "      <td>0.083333</td>\n",
       "      <td>0.000000</td>\n",
       "      <td>0.0</td>\n",
       "      <td>0.000000</td>\n",
       "      <td>...</td>\n",
       "      <td>0.000000</td>\n",
       "      <td>0.0</td>\n",
       "      <td>0.0</td>\n",
       "      <td>0.0</td>\n",
       "      <td>0.0</td>\n",
       "      <td>0.0</td>\n",
       "      <td>0.0</td>\n",
       "      <td>0.083333</td>\n",
       "      <td>0.250000</td>\n",
       "      <td>0.0</td>\n",
       "    </tr>\n",
       "    <tr>\n",
       "      <th>4</th>\n",
       "      <td>0.0</td>\n",
       "      <td>0.0</td>\n",
       "      <td>0.083333</td>\n",
       "      <td>0.0</td>\n",
       "      <td>0.0</td>\n",
       "      <td>0.000000</td>\n",
       "      <td>0.000000</td>\n",
       "      <td>0.000000</td>\n",
       "      <td>0.0</td>\n",
       "      <td>0.083333</td>\n",
       "      <td>...</td>\n",
       "      <td>0.000000</td>\n",
       "      <td>0.0</td>\n",
       "      <td>0.0</td>\n",
       "      <td>0.0</td>\n",
       "      <td>0.0</td>\n",
       "      <td>0.0</td>\n",
       "      <td>0.0</td>\n",
       "      <td>0.000000</td>\n",
       "      <td>0.166667</td>\n",
       "      <td>0.0</td>\n",
       "    </tr>\n",
       "    <tr>\n",
       "      <th>...</th>\n",
       "      <td>...</td>\n",
       "      <td>...</td>\n",
       "      <td>...</td>\n",
       "      <td>...</td>\n",
       "      <td>...</td>\n",
       "      <td>...</td>\n",
       "      <td>...</td>\n",
       "      <td>...</td>\n",
       "      <td>...</td>\n",
       "      <td>...</td>\n",
       "      <td>...</td>\n",
       "      <td>...</td>\n",
       "      <td>...</td>\n",
       "      <td>...</td>\n",
       "      <td>...</td>\n",
       "      <td>...</td>\n",
       "      <td>...</td>\n",
       "      <td>...</td>\n",
       "      <td>...</td>\n",
       "      <td>...</td>\n",
       "      <td>...</td>\n",
       "    </tr>\n",
       "    <tr>\n",
       "      <th>87248</th>\n",
       "      <td>0.0</td>\n",
       "      <td>0.0</td>\n",
       "      <td>0.333333</td>\n",
       "      <td>0.0</td>\n",
       "      <td>0.0</td>\n",
       "      <td>0.000000</td>\n",
       "      <td>0.000000</td>\n",
       "      <td>0.000000</td>\n",
       "      <td>0.0</td>\n",
       "      <td>0.000000</td>\n",
       "      <td>...</td>\n",
       "      <td>0.000000</td>\n",
       "      <td>0.0</td>\n",
       "      <td>0.0</td>\n",
       "      <td>0.0</td>\n",
       "      <td>0.0</td>\n",
       "      <td>0.0</td>\n",
       "      <td>0.0</td>\n",
       "      <td>0.083333</td>\n",
       "      <td>0.750000</td>\n",
       "      <td>0.0</td>\n",
       "    </tr>\n",
       "    <tr>\n",
       "      <th>87249</th>\n",
       "      <td>0.0</td>\n",
       "      <td>0.0</td>\n",
       "      <td>0.414881</td>\n",
       "      <td>0.0</td>\n",
       "      <td>0.0</td>\n",
       "      <td>0.000000</td>\n",
       "      <td>0.088071</td>\n",
       "      <td>0.000000</td>\n",
       "      <td>0.0</td>\n",
       "      <td>0.088001</td>\n",
       "      <td>...</td>\n",
       "      <td>0.086333</td>\n",
       "      <td>0.0</td>\n",
       "      <td>0.0</td>\n",
       "      <td>0.0</td>\n",
       "      <td>0.0</td>\n",
       "      <td>0.0</td>\n",
       "      <td>0.0</td>\n",
       "      <td>0.086139</td>\n",
       "      <td>0.334198</td>\n",
       "      <td>0.0</td>\n",
       "    </tr>\n",
       "    <tr>\n",
       "      <th>87250</th>\n",
       "      <td>0.0</td>\n",
       "      <td>0.0</td>\n",
       "      <td>0.353289</td>\n",
       "      <td>0.0</td>\n",
       "      <td>0.0</td>\n",
       "      <td>0.000000</td>\n",
       "      <td>0.000000</td>\n",
       "      <td>0.000000</td>\n",
       "      <td>0.0</td>\n",
       "      <td>0.000000</td>\n",
       "      <td>...</td>\n",
       "      <td>0.000000</td>\n",
       "      <td>0.0</td>\n",
       "      <td>0.0</td>\n",
       "      <td>0.0</td>\n",
       "      <td>0.0</td>\n",
       "      <td>0.0</td>\n",
       "      <td>0.0</td>\n",
       "      <td>0.178213</td>\n",
       "      <td>0.288899</td>\n",
       "      <td>0.0</td>\n",
       "    </tr>\n",
       "    <tr>\n",
       "      <th>87251</th>\n",
       "      <td>0.0</td>\n",
       "      <td>0.0</td>\n",
       "      <td>0.563333</td>\n",
       "      <td>0.0</td>\n",
       "      <td>0.0</td>\n",
       "      <td>0.166667</td>\n",
       "      <td>0.500000</td>\n",
       "      <td>0.000000</td>\n",
       "      <td>0.0</td>\n",
       "      <td>0.000000</td>\n",
       "      <td>...</td>\n",
       "      <td>0.000000</td>\n",
       "      <td>0.0</td>\n",
       "      <td>0.0</td>\n",
       "      <td>0.0</td>\n",
       "      <td>0.0</td>\n",
       "      <td>0.0</td>\n",
       "      <td>0.0</td>\n",
       "      <td>0.583333</td>\n",
       "      <td>0.833333</td>\n",
       "      <td>0.0</td>\n",
       "    </tr>\n",
       "    <tr>\n",
       "      <th>87252</th>\n",
       "      <td>0.0</td>\n",
       "      <td>0.0</td>\n",
       "      <td>1.250000</td>\n",
       "      <td>0.0</td>\n",
       "      <td>0.0</td>\n",
       "      <td>0.000000</td>\n",
       "      <td>0.000000</td>\n",
       "      <td>0.166667</td>\n",
       "      <td>0.0</td>\n",
       "      <td>0.416667</td>\n",
       "      <td>...</td>\n",
       "      <td>0.166667</td>\n",
       "      <td>0.0</td>\n",
       "      <td>0.0</td>\n",
       "      <td>0.0</td>\n",
       "      <td>0.0</td>\n",
       "      <td>0.0</td>\n",
       "      <td>0.0</td>\n",
       "      <td>0.750000</td>\n",
       "      <td>1.416667</td>\n",
       "      <td>0.0</td>\n",
       "    </tr>\n",
       "  </tbody>\n",
       "</table>\n",
       "<p>87253 rows × 391 columns</p>\n",
       "</div>"
      ],
      "text/plain": [
       "       betos_d1c_pmpm_ct  betos_d1d_pmpm_ct  betos_m1b_pmpm_ct  \\\n",
       "0                    0.0                0.0           1.162658   \n",
       "1                    0.0                0.0           1.155124   \n",
       "2                    0.0                0.0           0.333333   \n",
       "3                    0.0                0.0           0.250000   \n",
       "4                    0.0                0.0           0.083333   \n",
       "...                  ...                ...                ...   \n",
       "87248                0.0                0.0           0.333333   \n",
       "87249                0.0                0.0           0.414881   \n",
       "87250                0.0                0.0           0.353289   \n",
       "87251                0.0                0.0           0.563333   \n",
       "87252                0.0                0.0           1.250000   \n",
       "\n",
       "       betos_m2c_pmpm_ct  betos_m5b_pmpm_ct  betos_m5c_pmpm_ct  \\\n",
       "0                    0.0                0.0           0.000000   \n",
       "1                    0.0                0.0           0.085593   \n",
       "2                    0.0                0.0           0.133333   \n",
       "3                    0.0                0.0           0.000000   \n",
       "4                    0.0                0.0           0.000000   \n",
       "...                  ...                ...                ...   \n",
       "87248                0.0                0.0           0.000000   \n",
       "87249                0.0                0.0           0.000000   \n",
       "87250                0.0                0.0           0.000000   \n",
       "87251                0.0                0.0           0.166667   \n",
       "87252                0.0                0.0           0.000000   \n",
       "\n",
       "       betos_m5d_pmpm_ct  betos_o1a_pmpm_ct  betos_o1b_pmpm_ct  \\\n",
       "0               0.000000           0.000000                0.0   \n",
       "1               0.085873           0.000000                0.0   \n",
       "2               0.083333           1.250000                0.0   \n",
       "3               0.083333           0.000000                0.0   \n",
       "4               0.000000           0.000000                0.0   \n",
       "...                  ...                ...                ...   \n",
       "87248           0.000000           0.000000                0.0   \n",
       "87249           0.088071           0.000000                0.0   \n",
       "87250           0.000000           0.000000                0.0   \n",
       "87251           0.500000           0.000000                0.0   \n",
       "87252           0.000000           0.166667                0.0   \n",
       "\n",
       "       betos_o1e_pmpm_ct  ...  total_ip_acute_admit_days_pmpm  \\\n",
       "0               0.000000  ...                        0.000000   \n",
       "1               0.000000  ...                        0.000000   \n",
       "2               0.166667  ...                        0.000000   \n",
       "3               0.000000  ...                        0.000000   \n",
       "4               0.083333  ...                        0.000000   \n",
       "...                  ...  ...                             ...   \n",
       "87248           0.000000  ...                        0.000000   \n",
       "87249           0.088001  ...                        0.086333   \n",
       "87250           0.000000  ...                        0.000000   \n",
       "87251           0.000000  ...                        0.000000   \n",
       "87252           0.416667  ...                        0.166667   \n",
       "\n",
       "       total_ip_mhsa_admit_ct_pmpm  total_ip_mhsa_admit_days_pmpm  \\\n",
       "0                              0.0                            0.0   \n",
       "1                              0.0                            0.0   \n",
       "2                              0.0                            0.0   \n",
       "3                              0.0                            0.0   \n",
       "4                              0.0                            0.0   \n",
       "...                            ...                            ...   \n",
       "87248                          0.0                            0.0   \n",
       "87249                          0.0                            0.0   \n",
       "87250                          0.0                            0.0   \n",
       "87251                          0.0                            0.0   \n",
       "87252                          0.0                            0.0   \n",
       "\n",
       "       total_ip_rehab_admit_ct_pmpm  total_ip_rehab_admit_days_pmpm  \\\n",
       "0                               0.0                             0.0   \n",
       "1                               0.0                             0.0   \n",
       "2                               0.0                             0.0   \n",
       "3                               0.0                             0.0   \n",
       "4                               0.0                             0.0   \n",
       "...                             ...                             ...   \n",
       "87248                           0.0                             0.0   \n",
       "87249                           0.0                             0.0   \n",
       "87250                           0.0                             0.0   \n",
       "87251                           0.0                             0.0   \n",
       "87252                           0.0                             0.0   \n",
       "\n",
       "       total_ip_snf_admit_ct_pmpm  total_ip_snf_admit_days_pmpm  \\\n",
       "0                             0.0                           0.0   \n",
       "1                             0.0                           0.0   \n",
       "2                             0.0                           0.0   \n",
       "3                             0.0                           0.0   \n",
       "4                             0.0                           0.0   \n",
       "...                           ...                           ...   \n",
       "87248                         0.0                           0.0   \n",
       "87249                         0.0                           0.0   \n",
       "87250                         0.0                           0.0   \n",
       "87251                         0.0                           0.0   \n",
       "87252                         0.0                           0.0   \n",
       "\n",
       "       total_outpatient_visit_ct_pmpm  total_physician_office_visit_ct_pmpm  \\\n",
       "0                            0.000000                              0.250900   \n",
       "1                            0.000000                              0.172128   \n",
       "2                            0.500000                              0.416667   \n",
       "3                            0.083333                              0.250000   \n",
       "4                            0.000000                              0.166667   \n",
       "...                               ...                                   ...   \n",
       "87248                        0.083333                              0.750000   \n",
       "87249                        0.086139                              0.334198   \n",
       "87250                        0.178213                              0.288899   \n",
       "87251                        0.583333                              0.833333   \n",
       "87252                        0.750000                              1.416667   \n",
       "\n",
       "       total_urgent_care_visit_ct_pmpm  \n",
       "0                                  0.0  \n",
       "1                                  0.0  \n",
       "2                                  0.0  \n",
       "3                                  0.0  \n",
       "4                                  0.0  \n",
       "...                                ...  \n",
       "87248                              0.0  \n",
       "87249                              0.0  \n",
       "87250                              0.0  \n",
       "87251                              0.0  \n",
       "87252                              0.0  \n",
       "\n",
       "[87253 rows x 391 columns]"
      ]
     },
     "execution_count": 41,
     "metadata": {
      "tags": []
     },
     "output_type": "execute_result"
    }
   ],
   "source": [
    "data_not_object[list_not_binary]"
   ]
  },
  {
   "cell_type": "code",
   "execution_count": null,
   "metadata": {
    "id": "PXJZcf5i1VO4",
    "scrolled": true
   },
   "outputs": [],
   "source": [
    "continuous=data_not_object[list_not_binary] "
   ]
  },
  {
   "cell_type": "code",
   "execution_count": null,
   "metadata": {
    "id": "9QtgBwzE1VO7",
    "outputId": "665487c9-9da7-4258-c5ca-38bed5672561",
    "scrolled": true
   },
   "outputs": [
    {
     "data": {
      "text/html": [
       "<div>\n",
       "<style scoped>\n",
       "    .dataframe tbody tr th:only-of-type {\n",
       "        vertical-align: middle;\n",
       "    }\n",
       "\n",
       "    .dataframe tbody tr th {\n",
       "        vertical-align: top;\n",
       "    }\n",
       "\n",
       "    .dataframe thead th {\n",
       "        text-align: right;\n",
       "    }\n",
       "</style>\n",
       "<table border=\"1\" class=\"dataframe\">\n",
       "  <thead>\n",
       "    <tr style=\"text-align: right;\">\n",
       "      <th></th>\n",
       "      <th>smoker_current_ind_0.0</th>\n",
       "      <th>smoker_current_ind_1.0</th>\n",
       "      <th>smoker_current_ind_nan</th>\n",
       "      <th>smoker_former_ind_0.0</th>\n",
       "      <th>smoker_former_ind_1.0</th>\n",
       "      <th>smoker_former_ind_nan</th>\n",
       "      <th>bh_adtp_ind_0.0</th>\n",
       "      <th>bh_adtp_ind_1.0</th>\n",
       "      <th>bh_adtp_ind_nan</th>\n",
       "      <th>bh_aoth_ind_0.0</th>\n",
       "      <th>...</th>\n",
       "      <th>submcc_rsk_synx_ind_1.0</th>\n",
       "      <th>submcc_rsk_synx_ind_nan</th>\n",
       "      <th>submcc_rsk_coag_ind_0.0</th>\n",
       "      <th>submcc_rsk_coag_ind_1.0</th>\n",
       "      <th>submcc_rsk_coag_ind_nan</th>\n",
       "      <th>submcc_rsk_othr_ind_0.0</th>\n",
       "      <th>submcc_rsk_othr_ind_nan</th>\n",
       "      <th>submcc_rsk_chol_ind_0.0</th>\n",
       "      <th>submcc_rsk_chol_ind_1.0</th>\n",
       "      <th>submcc_rsk_chol_ind_nan</th>\n",
       "    </tr>\n",
       "  </thead>\n",
       "  <tbody>\n",
       "    <tr>\n",
       "      <th>0</th>\n",
       "      <td>0</td>\n",
       "      <td>1</td>\n",
       "      <td>0</td>\n",
       "      <td>1</td>\n",
       "      <td>0</td>\n",
       "      <td>0</td>\n",
       "      <td>1</td>\n",
       "      <td>0</td>\n",
       "      <td>0</td>\n",
       "      <td>1</td>\n",
       "      <td>...</td>\n",
       "      <td>0</td>\n",
       "      <td>0</td>\n",
       "      <td>1</td>\n",
       "      <td>0</td>\n",
       "      <td>0</td>\n",
       "      <td>1</td>\n",
       "      <td>0</td>\n",
       "      <td>1</td>\n",
       "      <td>0</td>\n",
       "      <td>0</td>\n",
       "    </tr>\n",
       "    <tr>\n",
       "      <th>1</th>\n",
       "      <td>0</td>\n",
       "      <td>1</td>\n",
       "      <td>0</td>\n",
       "      <td>1</td>\n",
       "      <td>0</td>\n",
       "      <td>0</td>\n",
       "      <td>1</td>\n",
       "      <td>0</td>\n",
       "      <td>0</td>\n",
       "      <td>0</td>\n",
       "      <td>...</td>\n",
       "      <td>0</td>\n",
       "      <td>0</td>\n",
       "      <td>1</td>\n",
       "      <td>0</td>\n",
       "      <td>0</td>\n",
       "      <td>1</td>\n",
       "      <td>0</td>\n",
       "      <td>0</td>\n",
       "      <td>1</td>\n",
       "      <td>0</td>\n",
       "    </tr>\n",
       "    <tr>\n",
       "      <th>2</th>\n",
       "      <td>1</td>\n",
       "      <td>0</td>\n",
       "      <td>0</td>\n",
       "      <td>1</td>\n",
       "      <td>0</td>\n",
       "      <td>0</td>\n",
       "      <td>1</td>\n",
       "      <td>0</td>\n",
       "      <td>0</td>\n",
       "      <td>1</td>\n",
       "      <td>...</td>\n",
       "      <td>0</td>\n",
       "      <td>0</td>\n",
       "      <td>1</td>\n",
       "      <td>0</td>\n",
       "      <td>0</td>\n",
       "      <td>1</td>\n",
       "      <td>0</td>\n",
       "      <td>0</td>\n",
       "      <td>1</td>\n",
       "      <td>0</td>\n",
       "    </tr>\n",
       "    <tr>\n",
       "      <th>3</th>\n",
       "      <td>1</td>\n",
       "      <td>0</td>\n",
       "      <td>0</td>\n",
       "      <td>1</td>\n",
       "      <td>0</td>\n",
       "      <td>0</td>\n",
       "      <td>1</td>\n",
       "      <td>0</td>\n",
       "      <td>0</td>\n",
       "      <td>1</td>\n",
       "      <td>...</td>\n",
       "      <td>0</td>\n",
       "      <td>0</td>\n",
       "      <td>1</td>\n",
       "      <td>0</td>\n",
       "      <td>0</td>\n",
       "      <td>1</td>\n",
       "      <td>0</td>\n",
       "      <td>0</td>\n",
       "      <td>1</td>\n",
       "      <td>0</td>\n",
       "    </tr>\n",
       "    <tr>\n",
       "      <th>4</th>\n",
       "      <td>0</td>\n",
       "      <td>1</td>\n",
       "      <td>0</td>\n",
       "      <td>1</td>\n",
       "      <td>0</td>\n",
       "      <td>0</td>\n",
       "      <td>1</td>\n",
       "      <td>0</td>\n",
       "      <td>0</td>\n",
       "      <td>1</td>\n",
       "      <td>...</td>\n",
       "      <td>0</td>\n",
       "      <td>0</td>\n",
       "      <td>1</td>\n",
       "      <td>0</td>\n",
       "      <td>0</td>\n",
       "      <td>1</td>\n",
       "      <td>0</td>\n",
       "      <td>0</td>\n",
       "      <td>1</td>\n",
       "      <td>0</td>\n",
       "    </tr>\n",
       "    <tr>\n",
       "      <th>...</th>\n",
       "      <td>...</td>\n",
       "      <td>...</td>\n",
       "      <td>...</td>\n",
       "      <td>...</td>\n",
       "      <td>...</td>\n",
       "      <td>...</td>\n",
       "      <td>...</td>\n",
       "      <td>...</td>\n",
       "      <td>...</td>\n",
       "      <td>...</td>\n",
       "      <td>...</td>\n",
       "      <td>...</td>\n",
       "      <td>...</td>\n",
       "      <td>...</td>\n",
       "      <td>...</td>\n",
       "      <td>...</td>\n",
       "      <td>...</td>\n",
       "      <td>...</td>\n",
       "      <td>...</td>\n",
       "      <td>...</td>\n",
       "      <td>...</td>\n",
       "    </tr>\n",
       "    <tr>\n",
       "      <th>87248</th>\n",
       "      <td>1</td>\n",
       "      <td>0</td>\n",
       "      <td>0</td>\n",
       "      <td>1</td>\n",
       "      <td>0</td>\n",
       "      <td>0</td>\n",
       "      <td>1</td>\n",
       "      <td>0</td>\n",
       "      <td>0</td>\n",
       "      <td>1</td>\n",
       "      <td>...</td>\n",
       "      <td>0</td>\n",
       "      <td>0</td>\n",
       "      <td>1</td>\n",
       "      <td>0</td>\n",
       "      <td>0</td>\n",
       "      <td>1</td>\n",
       "      <td>0</td>\n",
       "      <td>1</td>\n",
       "      <td>0</td>\n",
       "      <td>0</td>\n",
       "    </tr>\n",
       "    <tr>\n",
       "      <th>87249</th>\n",
       "      <td>1</td>\n",
       "      <td>0</td>\n",
       "      <td>0</td>\n",
       "      <td>0</td>\n",
       "      <td>1</td>\n",
       "      <td>0</td>\n",
       "      <td>1</td>\n",
       "      <td>0</td>\n",
       "      <td>0</td>\n",
       "      <td>1</td>\n",
       "      <td>...</td>\n",
       "      <td>0</td>\n",
       "      <td>0</td>\n",
       "      <td>1</td>\n",
       "      <td>0</td>\n",
       "      <td>0</td>\n",
       "      <td>1</td>\n",
       "      <td>0</td>\n",
       "      <td>0</td>\n",
       "      <td>1</td>\n",
       "      <td>0</td>\n",
       "    </tr>\n",
       "    <tr>\n",
       "      <th>87250</th>\n",
       "      <td>1</td>\n",
       "      <td>0</td>\n",
       "      <td>0</td>\n",
       "      <td>1</td>\n",
       "      <td>0</td>\n",
       "      <td>0</td>\n",
       "      <td>1</td>\n",
       "      <td>0</td>\n",
       "      <td>0</td>\n",
       "      <td>1</td>\n",
       "      <td>...</td>\n",
       "      <td>0</td>\n",
       "      <td>0</td>\n",
       "      <td>1</td>\n",
       "      <td>0</td>\n",
       "      <td>0</td>\n",
       "      <td>1</td>\n",
       "      <td>0</td>\n",
       "      <td>1</td>\n",
       "      <td>0</td>\n",
       "      <td>0</td>\n",
       "    </tr>\n",
       "    <tr>\n",
       "      <th>87251</th>\n",
       "      <td>1</td>\n",
       "      <td>0</td>\n",
       "      <td>0</td>\n",
       "      <td>1</td>\n",
       "      <td>0</td>\n",
       "      <td>0</td>\n",
       "      <td>1</td>\n",
       "      <td>0</td>\n",
       "      <td>0</td>\n",
       "      <td>1</td>\n",
       "      <td>...</td>\n",
       "      <td>0</td>\n",
       "      <td>0</td>\n",
       "      <td>1</td>\n",
       "      <td>0</td>\n",
       "      <td>0</td>\n",
       "      <td>1</td>\n",
       "      <td>0</td>\n",
       "      <td>0</td>\n",
       "      <td>1</td>\n",
       "      <td>0</td>\n",
       "    </tr>\n",
       "    <tr>\n",
       "      <th>87252</th>\n",
       "      <td>0</td>\n",
       "      <td>1</td>\n",
       "      <td>0</td>\n",
       "      <td>1</td>\n",
       "      <td>0</td>\n",
       "      <td>0</td>\n",
       "      <td>1</td>\n",
       "      <td>0</td>\n",
       "      <td>0</td>\n",
       "      <td>1</td>\n",
       "      <td>...</td>\n",
       "      <td>0</td>\n",
       "      <td>0</td>\n",
       "      <td>1</td>\n",
       "      <td>0</td>\n",
       "      <td>0</td>\n",
       "      <td>1</td>\n",
       "      <td>0</td>\n",
       "      <td>0</td>\n",
       "      <td>1</td>\n",
       "      <td>0</td>\n",
       "    </tr>\n",
       "  </tbody>\n",
       "</table>\n",
       "<p>87253 rows × 1146 columns</p>\n",
       "</div>"
      ],
      "text/plain": [
       "       smoker_current_ind_0.0  smoker_current_ind_1.0  smoker_current_ind_nan  \\\n",
       "0                           0                       1                       0   \n",
       "1                           0                       1                       0   \n",
       "2                           1                       0                       0   \n",
       "3                           1                       0                       0   \n",
       "4                           0                       1                       0   \n",
       "...                       ...                     ...                     ...   \n",
       "87248                       1                       0                       0   \n",
       "87249                       1                       0                       0   \n",
       "87250                       1                       0                       0   \n",
       "87251                       1                       0                       0   \n",
       "87252                       0                       1                       0   \n",
       "\n",
       "       smoker_former_ind_0.0  smoker_former_ind_1.0  smoker_former_ind_nan  \\\n",
       "0                          1                      0                      0   \n",
       "1                          1                      0                      0   \n",
       "2                          1                      0                      0   \n",
       "3                          1                      0                      0   \n",
       "4                          1                      0                      0   \n",
       "...                      ...                    ...                    ...   \n",
       "87248                      1                      0                      0   \n",
       "87249                      0                      1                      0   \n",
       "87250                      1                      0                      0   \n",
       "87251                      1                      0                      0   \n",
       "87252                      1                      0                      0   \n",
       "\n",
       "       bh_adtp_ind_0.0  bh_adtp_ind_1.0  bh_adtp_ind_nan  bh_aoth_ind_0.0  \\\n",
       "0                    1                0                0                1   \n",
       "1                    1                0                0                0   \n",
       "2                    1                0                0                1   \n",
       "3                    1                0                0                1   \n",
       "4                    1                0                0                1   \n",
       "...                ...              ...              ...              ...   \n",
       "87248                1                0                0                1   \n",
       "87249                1                0                0                1   \n",
       "87250                1                0                0                1   \n",
       "87251                1                0                0                1   \n",
       "87252                1                0                0                1   \n",
       "\n",
       "       ...  submcc_rsk_synx_ind_1.0  submcc_rsk_synx_ind_nan  \\\n",
       "0      ...                        0                        0   \n",
       "1      ...                        0                        0   \n",
       "2      ...                        0                        0   \n",
       "3      ...                        0                        0   \n",
       "4      ...                        0                        0   \n",
       "...    ...                      ...                      ...   \n",
       "87248  ...                        0                        0   \n",
       "87249  ...                        0                        0   \n",
       "87250  ...                        0                        0   \n",
       "87251  ...                        0                        0   \n",
       "87252  ...                        0                        0   \n",
       "\n",
       "       submcc_rsk_coag_ind_0.0  submcc_rsk_coag_ind_1.0  \\\n",
       "0                            1                        0   \n",
       "1                            1                        0   \n",
       "2                            1                        0   \n",
       "3                            1                        0   \n",
       "4                            1                        0   \n",
       "...                        ...                      ...   \n",
       "87248                        1                        0   \n",
       "87249                        1                        0   \n",
       "87250                        1                        0   \n",
       "87251                        1                        0   \n",
       "87252                        1                        0   \n",
       "\n",
       "       submcc_rsk_coag_ind_nan  submcc_rsk_othr_ind_0.0  \\\n",
       "0                            0                        1   \n",
       "1                            0                        1   \n",
       "2                            0                        1   \n",
       "3                            0                        1   \n",
       "4                            0                        1   \n",
       "...                        ...                      ...   \n",
       "87248                        0                        1   \n",
       "87249                        0                        1   \n",
       "87250                        0                        1   \n",
       "87251                        0                        1   \n",
       "87252                        0                        1   \n",
       "\n",
       "       submcc_rsk_othr_ind_nan  submcc_rsk_chol_ind_0.0  \\\n",
       "0                            0                        1   \n",
       "1                            0                        0   \n",
       "2                            0                        0   \n",
       "3                            0                        0   \n",
       "4                            0                        0   \n",
       "...                        ...                      ...   \n",
       "87248                        0                        1   \n",
       "87249                        0                        0   \n",
       "87250                        0                        1   \n",
       "87251                        0                        0   \n",
       "87252                        0                        0   \n",
       "\n",
       "       submcc_rsk_chol_ind_1.0  submcc_rsk_chol_ind_nan  \n",
       "0                            0                        0  \n",
       "1                            1                        0  \n",
       "2                            1                        0  \n",
       "3                            1                        0  \n",
       "4                            1                        0  \n",
       "...                        ...                      ...  \n",
       "87248                        0                        0  \n",
       "87249                        1                        0  \n",
       "87250                        0                        0  \n",
       "87251                        1                        0  \n",
       "87252                        1                        0  \n",
       "\n",
       "[87253 rows x 1146 columns]"
      ]
     },
     "execution_count": 43,
     "metadata": {
      "tags": []
     },
     "output_type": "execute_result"
    }
   ],
   "source": [
    "good_binary"
   ]
  },
  {
   "cell_type": "code",
   "execution_count": null,
   "metadata": {
    "id": "PSyOErud1VO9",
    "outputId": "a552040c-7a95-4179-e657-d78e83be5300"
   },
   "outputs": [
    {
     "data": {
      "text/plain": [
       "[]"
      ]
     },
     "execution_count": 44,
     "metadata": {
      "tags": []
     },
     "output_type": "execute_result"
    }
   ],
   "source": [
    "good_binary.columns[good_binary.isna().any()].tolist()"
   ]
  },
  {
   "cell_type": "markdown",
   "metadata": {
    "id": "SNUotWtt1VPA"
   },
   "source": [
    "## Impute Missing Values"
   ]
  },
  {
   "cell_type": "code",
   "execution_count": null,
   "metadata": {
    "id": "VIRtzS7b1VPA"
   },
   "outputs": [],
   "source": [
    "from sklearn.base import TransformerMixin\n",
    "class DataFrameImputer(TransformerMixin):\n",
    "\n",
    "    def __init__(self):\n",
    "        \"\"\"Impute missing values.\n",
    "\n",
    "        Columns of dtype object are imputed with the most frequent value \n",
    "        in column.\n",
    "\n",
    "        Columns of other types are imputed with mean of column.\n",
    "\n",
    "        \"\"\"\n",
    "    def fit(self, X, y=None):\n",
    "\n",
    "        self.fill = pd.Series([X[c].value_counts().index[0]\n",
    "            if X[c].dtype == np.dtype('O') else X[c].mean() for c in X],\n",
    "            index=X.columns)\n",
    "\n",
    "        return self\n",
    "\n",
    "    def transform(self, X, y=None):\n",
    "        return X.fillna(self.fill)\n",
    "\n",
    "X = pd.DataFrame(continuous)\n",
    "continuous= DataFrameImputer().fit_transform(X)"
   ]
  },
  {
   "cell_type": "code",
   "execution_count": null,
   "metadata": {
    "id": "01SOsrYR1VPC",
    "outputId": "0674ef87-1781-4555-b3cb-884e7c87e35a"
   },
   "outputs": [
    {
     "data": {
      "text/plain": [
       "[]"
      ]
     },
     "execution_count": 46,
     "metadata": {
      "tags": []
     },
     "output_type": "execute_result"
    }
   ],
   "source": [
    "continuous.columns[continuous.isna().any()].tolist()"
   ]
  },
  {
   "cell_type": "code",
   "execution_count": null,
   "metadata": {
    "id": "wwslkqxE1VPH"
   },
   "outputs": [],
   "source": [
    "data_after_cleaning=pd.concat([good_binary,data_dumy,continuous],axis=1)"
   ]
  },
  {
   "cell_type": "code",
   "execution_count": null,
   "metadata": {
    "id": "5A5h7jDH1VPK",
    "outputId": "78312b10-04f5-494c-a644-973bd8fcbaf3"
   },
   "outputs": [
    {
     "data": {
      "text/html": [
       "<div>\n",
       "<style scoped>\n",
       "    .dataframe tbody tr th:only-of-type {\n",
       "        vertical-align: middle;\n",
       "    }\n",
       "\n",
       "    .dataframe tbody tr th {\n",
       "        vertical-align: top;\n",
       "    }\n",
       "\n",
       "    .dataframe thead th {\n",
       "        text-align: right;\n",
       "    }\n",
       "</style>\n",
       "<table border=\"1\" class=\"dataframe\">\n",
       "  <thead>\n",
       "    <tr style=\"text-align: right;\">\n",
       "      <th></th>\n",
       "      <th>smoker_current_ind_0.0</th>\n",
       "      <th>smoker_current_ind_1.0</th>\n",
       "      <th>smoker_current_ind_nan</th>\n",
       "      <th>smoker_former_ind_0.0</th>\n",
       "      <th>smoker_former_ind_1.0</th>\n",
       "      <th>smoker_former_ind_nan</th>\n",
       "      <th>bh_adtp_ind_0.0</th>\n",
       "      <th>bh_adtp_ind_1.0</th>\n",
       "      <th>bh_adtp_ind_nan</th>\n",
       "      <th>bh_aoth_ind_0.0</th>\n",
       "      <th>...</th>\n",
       "      <th>total_ip_acute_admit_days_pmpm</th>\n",
       "      <th>total_ip_mhsa_admit_ct_pmpm</th>\n",
       "      <th>total_ip_mhsa_admit_days_pmpm</th>\n",
       "      <th>total_ip_rehab_admit_ct_pmpm</th>\n",
       "      <th>total_ip_rehab_admit_days_pmpm</th>\n",
       "      <th>total_ip_snf_admit_ct_pmpm</th>\n",
       "      <th>total_ip_snf_admit_days_pmpm</th>\n",
       "      <th>total_outpatient_visit_ct_pmpm</th>\n",
       "      <th>total_physician_office_visit_ct_pmpm</th>\n",
       "      <th>total_urgent_care_visit_ct_pmpm</th>\n",
       "    </tr>\n",
       "  </thead>\n",
       "  <tbody>\n",
       "    <tr>\n",
       "      <th>0</th>\n",
       "      <td>0</td>\n",
       "      <td>1</td>\n",
       "      <td>0</td>\n",
       "      <td>1</td>\n",
       "      <td>0</td>\n",
       "      <td>0</td>\n",
       "      <td>1</td>\n",
       "      <td>0</td>\n",
       "      <td>0</td>\n",
       "      <td>1</td>\n",
       "      <td>...</td>\n",
       "      <td>0.000000</td>\n",
       "      <td>0.0</td>\n",
       "      <td>0.0</td>\n",
       "      <td>0.0</td>\n",
       "      <td>0.0</td>\n",
       "      <td>0.0</td>\n",
       "      <td>0.0</td>\n",
       "      <td>0.000000</td>\n",
       "      <td>0.250900</td>\n",
       "      <td>0.0</td>\n",
       "    </tr>\n",
       "    <tr>\n",
       "      <th>1</th>\n",
       "      <td>0</td>\n",
       "      <td>1</td>\n",
       "      <td>0</td>\n",
       "      <td>1</td>\n",
       "      <td>0</td>\n",
       "      <td>0</td>\n",
       "      <td>1</td>\n",
       "      <td>0</td>\n",
       "      <td>0</td>\n",
       "      <td>0</td>\n",
       "      <td>...</td>\n",
       "      <td>0.000000</td>\n",
       "      <td>0.0</td>\n",
       "      <td>0.0</td>\n",
       "      <td>0.0</td>\n",
       "      <td>0.0</td>\n",
       "      <td>0.0</td>\n",
       "      <td>0.0</td>\n",
       "      <td>0.000000</td>\n",
       "      <td>0.172128</td>\n",
       "      <td>0.0</td>\n",
       "    </tr>\n",
       "    <tr>\n",
       "      <th>2</th>\n",
       "      <td>1</td>\n",
       "      <td>0</td>\n",
       "      <td>0</td>\n",
       "      <td>1</td>\n",
       "      <td>0</td>\n",
       "      <td>0</td>\n",
       "      <td>1</td>\n",
       "      <td>0</td>\n",
       "      <td>0</td>\n",
       "      <td>1</td>\n",
       "      <td>...</td>\n",
       "      <td>0.000000</td>\n",
       "      <td>0.0</td>\n",
       "      <td>0.0</td>\n",
       "      <td>0.0</td>\n",
       "      <td>0.0</td>\n",
       "      <td>0.0</td>\n",
       "      <td>0.0</td>\n",
       "      <td>0.500000</td>\n",
       "      <td>0.416667</td>\n",
       "      <td>0.0</td>\n",
       "    </tr>\n",
       "    <tr>\n",
       "      <th>3</th>\n",
       "      <td>1</td>\n",
       "      <td>0</td>\n",
       "      <td>0</td>\n",
       "      <td>1</td>\n",
       "      <td>0</td>\n",
       "      <td>0</td>\n",
       "      <td>1</td>\n",
       "      <td>0</td>\n",
       "      <td>0</td>\n",
       "      <td>1</td>\n",
       "      <td>...</td>\n",
       "      <td>0.000000</td>\n",
       "      <td>0.0</td>\n",
       "      <td>0.0</td>\n",
       "      <td>0.0</td>\n",
       "      <td>0.0</td>\n",
       "      <td>0.0</td>\n",
       "      <td>0.0</td>\n",
       "      <td>0.083333</td>\n",
       "      <td>0.250000</td>\n",
       "      <td>0.0</td>\n",
       "    </tr>\n",
       "    <tr>\n",
       "      <th>4</th>\n",
       "      <td>0</td>\n",
       "      <td>1</td>\n",
       "      <td>0</td>\n",
       "      <td>1</td>\n",
       "      <td>0</td>\n",
       "      <td>0</td>\n",
       "      <td>1</td>\n",
       "      <td>0</td>\n",
       "      <td>0</td>\n",
       "      <td>1</td>\n",
       "      <td>...</td>\n",
       "      <td>0.000000</td>\n",
       "      <td>0.0</td>\n",
       "      <td>0.0</td>\n",
       "      <td>0.0</td>\n",
       "      <td>0.0</td>\n",
       "      <td>0.0</td>\n",
       "      <td>0.0</td>\n",
       "      <td>0.000000</td>\n",
       "      <td>0.166667</td>\n",
       "      <td>0.0</td>\n",
       "    </tr>\n",
       "    <tr>\n",
       "      <th>...</th>\n",
       "      <td>...</td>\n",
       "      <td>...</td>\n",
       "      <td>...</td>\n",
       "      <td>...</td>\n",
       "      <td>...</td>\n",
       "      <td>...</td>\n",
       "      <td>...</td>\n",
       "      <td>...</td>\n",
       "      <td>...</td>\n",
       "      <td>...</td>\n",
       "      <td>...</td>\n",
       "      <td>...</td>\n",
       "      <td>...</td>\n",
       "      <td>...</td>\n",
       "      <td>...</td>\n",
       "      <td>...</td>\n",
       "      <td>...</td>\n",
       "      <td>...</td>\n",
       "      <td>...</td>\n",
       "      <td>...</td>\n",
       "      <td>...</td>\n",
       "    </tr>\n",
       "    <tr>\n",
       "      <th>87248</th>\n",
       "      <td>1</td>\n",
       "      <td>0</td>\n",
       "      <td>0</td>\n",
       "      <td>1</td>\n",
       "      <td>0</td>\n",
       "      <td>0</td>\n",
       "      <td>1</td>\n",
       "      <td>0</td>\n",
       "      <td>0</td>\n",
       "      <td>1</td>\n",
       "      <td>...</td>\n",
       "      <td>0.000000</td>\n",
       "      <td>0.0</td>\n",
       "      <td>0.0</td>\n",
       "      <td>0.0</td>\n",
       "      <td>0.0</td>\n",
       "      <td>0.0</td>\n",
       "      <td>0.0</td>\n",
       "      <td>0.083333</td>\n",
       "      <td>0.750000</td>\n",
       "      <td>0.0</td>\n",
       "    </tr>\n",
       "    <tr>\n",
       "      <th>87249</th>\n",
       "      <td>1</td>\n",
       "      <td>0</td>\n",
       "      <td>0</td>\n",
       "      <td>0</td>\n",
       "      <td>1</td>\n",
       "      <td>0</td>\n",
       "      <td>1</td>\n",
       "      <td>0</td>\n",
       "      <td>0</td>\n",
       "      <td>1</td>\n",
       "      <td>...</td>\n",
       "      <td>0.086333</td>\n",
       "      <td>0.0</td>\n",
       "      <td>0.0</td>\n",
       "      <td>0.0</td>\n",
       "      <td>0.0</td>\n",
       "      <td>0.0</td>\n",
       "      <td>0.0</td>\n",
       "      <td>0.086139</td>\n",
       "      <td>0.334198</td>\n",
       "      <td>0.0</td>\n",
       "    </tr>\n",
       "    <tr>\n",
       "      <th>87250</th>\n",
       "      <td>1</td>\n",
       "      <td>0</td>\n",
       "      <td>0</td>\n",
       "      <td>1</td>\n",
       "      <td>0</td>\n",
       "      <td>0</td>\n",
       "      <td>1</td>\n",
       "      <td>0</td>\n",
       "      <td>0</td>\n",
       "      <td>1</td>\n",
       "      <td>...</td>\n",
       "      <td>0.000000</td>\n",
       "      <td>0.0</td>\n",
       "      <td>0.0</td>\n",
       "      <td>0.0</td>\n",
       "      <td>0.0</td>\n",
       "      <td>0.0</td>\n",
       "      <td>0.0</td>\n",
       "      <td>0.178213</td>\n",
       "      <td>0.288899</td>\n",
       "      <td>0.0</td>\n",
       "    </tr>\n",
       "    <tr>\n",
       "      <th>87251</th>\n",
       "      <td>1</td>\n",
       "      <td>0</td>\n",
       "      <td>0</td>\n",
       "      <td>1</td>\n",
       "      <td>0</td>\n",
       "      <td>0</td>\n",
       "      <td>1</td>\n",
       "      <td>0</td>\n",
       "      <td>0</td>\n",
       "      <td>1</td>\n",
       "      <td>...</td>\n",
       "      <td>0.000000</td>\n",
       "      <td>0.0</td>\n",
       "      <td>0.0</td>\n",
       "      <td>0.0</td>\n",
       "      <td>0.0</td>\n",
       "      <td>0.0</td>\n",
       "      <td>0.0</td>\n",
       "      <td>0.583333</td>\n",
       "      <td>0.833333</td>\n",
       "      <td>0.0</td>\n",
       "    </tr>\n",
       "    <tr>\n",
       "      <th>87252</th>\n",
       "      <td>0</td>\n",
       "      <td>1</td>\n",
       "      <td>0</td>\n",
       "      <td>1</td>\n",
       "      <td>0</td>\n",
       "      <td>0</td>\n",
       "      <td>1</td>\n",
       "      <td>0</td>\n",
       "      <td>0</td>\n",
       "      <td>1</td>\n",
       "      <td>...</td>\n",
       "      <td>0.166667</td>\n",
       "      <td>0.0</td>\n",
       "      <td>0.0</td>\n",
       "      <td>0.0</td>\n",
       "      <td>0.0</td>\n",
       "      <td>0.0</td>\n",
       "      <td>0.0</td>\n",
       "      <td>0.750000</td>\n",
       "      <td>1.416667</td>\n",
       "      <td>0.0</td>\n",
       "    </tr>\n",
       "  </tbody>\n",
       "</table>\n",
       "<p>87253 rows × 1680 columns</p>\n",
       "</div>"
      ],
      "text/plain": [
       "       smoker_current_ind_0.0  smoker_current_ind_1.0  smoker_current_ind_nan  \\\n",
       "0                           0                       1                       0   \n",
       "1                           0                       1                       0   \n",
       "2                           1                       0                       0   \n",
       "3                           1                       0                       0   \n",
       "4                           0                       1                       0   \n",
       "...                       ...                     ...                     ...   \n",
       "87248                       1                       0                       0   \n",
       "87249                       1                       0                       0   \n",
       "87250                       1                       0                       0   \n",
       "87251                       1                       0                       0   \n",
       "87252                       0                       1                       0   \n",
       "\n",
       "       smoker_former_ind_0.0  smoker_former_ind_1.0  smoker_former_ind_nan  \\\n",
       "0                          1                      0                      0   \n",
       "1                          1                      0                      0   \n",
       "2                          1                      0                      0   \n",
       "3                          1                      0                      0   \n",
       "4                          1                      0                      0   \n",
       "...                      ...                    ...                    ...   \n",
       "87248                      1                      0                      0   \n",
       "87249                      0                      1                      0   \n",
       "87250                      1                      0                      0   \n",
       "87251                      1                      0                      0   \n",
       "87252                      1                      0                      0   \n",
       "\n",
       "       bh_adtp_ind_0.0  bh_adtp_ind_1.0  bh_adtp_ind_nan  bh_aoth_ind_0.0  \\\n",
       "0                    1                0                0                1   \n",
       "1                    1                0                0                0   \n",
       "2                    1                0                0                1   \n",
       "3                    1                0                0                1   \n",
       "4                    1                0                0                1   \n",
       "...                ...              ...              ...              ...   \n",
       "87248                1                0                0                1   \n",
       "87249                1                0                0                1   \n",
       "87250                1                0                0                1   \n",
       "87251                1                0                0                1   \n",
       "87252                1                0                0                1   \n",
       "\n",
       "       ...  total_ip_acute_admit_days_pmpm  total_ip_mhsa_admit_ct_pmpm  \\\n",
       "0      ...                        0.000000                          0.0   \n",
       "1      ...                        0.000000                          0.0   \n",
       "2      ...                        0.000000                          0.0   \n",
       "3      ...                        0.000000                          0.0   \n",
       "4      ...                        0.000000                          0.0   \n",
       "...    ...                             ...                          ...   \n",
       "87248  ...                        0.000000                          0.0   \n",
       "87249  ...                        0.086333                          0.0   \n",
       "87250  ...                        0.000000                          0.0   \n",
       "87251  ...                        0.000000                          0.0   \n",
       "87252  ...                        0.166667                          0.0   \n",
       "\n",
       "       total_ip_mhsa_admit_days_pmpm  total_ip_rehab_admit_ct_pmpm  \\\n",
       "0                                0.0                           0.0   \n",
       "1                                0.0                           0.0   \n",
       "2                                0.0                           0.0   \n",
       "3                                0.0                           0.0   \n",
       "4                                0.0                           0.0   \n",
       "...                              ...                           ...   \n",
       "87248                            0.0                           0.0   \n",
       "87249                            0.0                           0.0   \n",
       "87250                            0.0                           0.0   \n",
       "87251                            0.0                           0.0   \n",
       "87252                            0.0                           0.0   \n",
       "\n",
       "       total_ip_rehab_admit_days_pmpm  total_ip_snf_admit_ct_pmpm  \\\n",
       "0                                 0.0                         0.0   \n",
       "1                                 0.0                         0.0   \n",
       "2                                 0.0                         0.0   \n",
       "3                                 0.0                         0.0   \n",
       "4                                 0.0                         0.0   \n",
       "...                               ...                         ...   \n",
       "87248                             0.0                         0.0   \n",
       "87249                             0.0                         0.0   \n",
       "87250                             0.0                         0.0   \n",
       "87251                             0.0                         0.0   \n",
       "87252                             0.0                         0.0   \n",
       "\n",
       "       total_ip_snf_admit_days_pmpm  total_outpatient_visit_ct_pmpm  \\\n",
       "0                               0.0                        0.000000   \n",
       "1                               0.0                        0.000000   \n",
       "2                               0.0                        0.500000   \n",
       "3                               0.0                        0.083333   \n",
       "4                               0.0                        0.000000   \n",
       "...                             ...                             ...   \n",
       "87248                           0.0                        0.083333   \n",
       "87249                           0.0                        0.086139   \n",
       "87250                           0.0                        0.178213   \n",
       "87251                           0.0                        0.583333   \n",
       "87252                           0.0                        0.750000   \n",
       "\n",
       "       total_physician_office_visit_ct_pmpm  total_urgent_care_visit_ct_pmpm  \n",
       "0                                  0.250900                              0.0  \n",
       "1                                  0.172128                              0.0  \n",
       "2                                  0.416667                              0.0  \n",
       "3                                  0.250000                              0.0  \n",
       "4                                  0.166667                              0.0  \n",
       "...                                     ...                              ...  \n",
       "87248                              0.750000                              0.0  \n",
       "87249                              0.334198                              0.0  \n",
       "87250                              0.288899                              0.0  \n",
       "87251                              0.833333                              0.0  \n",
       "87252                              1.416667                              0.0  \n",
       "\n",
       "[87253 rows x 1680 columns]"
      ]
     },
     "execution_count": 48,
     "metadata": {
      "tags": []
     },
     "output_type": "execute_result"
    }
   ],
   "source": [
    "data_after_cleaning"
   ]
  },
  {
   "cell_type": "code",
   "execution_count": null,
   "metadata": {
    "id": "xPahgV3u1VPM",
    "outputId": "646aca8e-fff0-40c1-827a-e9f3eb397d54"
   },
   "outputs": [
    {
     "data": {
      "text/plain": [
       "[]"
      ]
     },
     "execution_count": 49,
     "metadata": {
      "tags": []
     },
     "output_type": "execute_result"
    }
   ],
   "source": [
    "data_after_cleaning.columns[data_after_cleaning.isna().any()].tolist()"
   ]
  },
  {
   "cell_type": "markdown",
   "metadata": {
    "id": "g1iQgV8t1VPQ"
   },
   "source": [
    "## Seperate training from holdout"
   ]
  },
  {
   "cell_type": "code",
   "execution_count": null,
   "metadata": {
    "id": "77FsMeZ71VPR"
   },
   "outputs": [],
   "source": [
    "train=data_after_cleaning.iloc[:69572,:]"
   ]
  },
  {
   "cell_type": "code",
   "execution_count": null,
   "metadata": {
    "id": "GsFX7zUf1VPV"
   },
   "outputs": [],
   "source": [
    "holdout=data_after_cleaning.iloc[69572:87253,:]"
   ]
  },
  {
   "cell_type": "markdown",
   "metadata": {
    "id": "CBSBoHhs1VPa"
   },
   "source": [
    "### Get label back"
   ]
  },
  {
   "cell_type": "code",
   "execution_count": null,
   "metadata": {
    "id": "9Rb3vbnw1VPb",
    "outputId": "88401003-8960-4be5-eed0-0d664c0e7a1e"
   },
   "outputs": [
    {
     "data": {
      "text/plain": [
       "0        0\n",
       "1        0\n",
       "2        1\n",
       "3        0\n",
       "4        0\n",
       "        ..\n",
       "69567    0\n",
       "69568    0\n",
       "69569    0\n",
       "69570    0\n",
       "69571    1\n",
       "Name: transportation_issues, Length: 69572, dtype: int64"
      ]
     },
     "execution_count": 52,
     "metadata": {
      "tags": []
     },
     "output_type": "execute_result"
    }
   ],
   "source": [
    "data_training['transportation_issues']"
   ]
  },
  {
   "cell_type": "code",
   "execution_count": null,
   "metadata": {
    "id": "65CNEAqx1VPd"
   },
   "outputs": [],
   "source": [
    "train_full=pd.concat([data_training['transportation_issues'],train],axis=1)"
   ]
  },
  {
   "cell_type": "code",
   "execution_count": null,
   "metadata": {
    "id": "DDrppfOz1VPh",
    "outputId": "cd30dd9c-7192-4949-80de-b164b4181c36",
    "scrolled": true
   },
   "outputs": [
    {
     "data": {
      "text/plain": [
       "0            0\n",
       "1            1\n",
       "2            2\n",
       "3            3\n",
       "4            4\n",
       "         ...  \n",
       "69567    69567\n",
       "69568    69568\n",
       "69569    69569\n",
       "69570    69570\n",
       "69571    69571\n",
       "Name: id, Length: 69572, dtype: int64"
      ]
     },
     "execution_count": 54,
     "metadata": {
      "tags": []
     },
     "output_type": "execute_result"
    }
   ],
   "source": [
    "train_full['id']"
   ]
  },
  {
   "cell_type": "code",
   "execution_count": null,
   "metadata": {
    "id": "QdRvUkk41VPk"
   },
   "outputs": [],
   "source": [
    "train_full.to_csv(\"train_full.csv\")"
   ]
  },
  {
   "cell_type": "code",
   "execution_count": null,
   "metadata": {
    "id": "xuFvPERH1VP1"
   },
   "outputs": [],
   "source": [
    "holdout.to_csv(\"holdout.csv\")"
   ]
  },
  {
   "cell_type": "markdown",
   "metadata": {
    "id": "RVeavZIK1VP4"
   },
   "source": [
    "## Deal with imbalanced data"
   ]
  },
  {
   "cell_type": "code",
   "execution_count": null,
   "metadata": {
    "id": "d-eQh8y-1VP5"
   },
   "outputs": [],
   "source": [
    "# Separate majority and minority classes\n",
    "df_majority =train_full[train_full.transportation_issues==0]\n",
    "df_minority = train_full[train_full.transportation_issues==1]"
   ]
  },
  {
   "cell_type": "code",
   "execution_count": null,
   "metadata": {
    "id": "pv57o7Le1VP9",
    "outputId": "512a64ea-a75a-47a5-e78f-434435ddf843",
    "scrolled": true
   },
   "outputs": [
    {
     "name": "stdout",
     "output_type": "stream",
     "text": [
      "<class 'pandas.core.frame.DataFrame'>\n",
      "Int64Index: 59375 entries, 0 to 69570\n",
      "Columns: 1681 entries, transportation_issues to total_urgent_care_visit_ct_pmpm\n",
      "dtypes: float64(386), int64(6), uint8(1289)\n",
      "memory usage: 251.0 MB\n"
     ]
    }
   ],
   "source": [
    "df_majority.info()"
   ]
  },
  {
   "cell_type": "code",
   "execution_count": null,
   "metadata": {
    "id": "5JqurGKH1VQA",
    "outputId": "655e09a6-8399-4f14-d515-b3fd4a6ec38f"
   },
   "outputs": [
    {
     "name": "stdout",
     "output_type": "stream",
     "text": [
      "<class 'pandas.core.frame.DataFrame'>\n",
      "Int64Index: 10197 entries, 2 to 69571\n",
      "Columns: 1681 entries, transportation_issues to total_urgent_care_visit_ct_pmpm\n",
      "dtypes: float64(386), int64(6), uint8(1289)\n",
      "memory usage: 43.1 MB\n"
     ]
    }
   ],
   "source": [
    "df_minority.info()"
   ]
  },
  {
   "cell_type": "code",
   "execution_count": null,
   "metadata": {
    "id": "ruwrBmTX1VQE",
    "outputId": "ad9eaaf0-f831-4d42-d058-1313ffc3519a"
   },
   "outputs": [
    {
     "data": {
      "text/plain": [
       "1    59375\n",
       "0    59375\n",
       "Name: transportation_issues, dtype: int64"
      ]
     },
     "execution_count": 60,
     "metadata": {
      "tags": []
     },
     "output_type": "execute_result"
    }
   ],
   "source": [
    "# upsample majority class\n",
    "from sklearn.utils import resample\n",
    "\n",
    "df_minority_upsampled = resample(df_minority, \n",
    "                                 replace=True,     # sample with replacement\n",
    "                                 n_samples=59375,    # to match majority class\n",
    "                                 random_state=123) # reproducible results\n",
    " \n",
    "# Combine majority class with upsampled minority class\n",
    "df_upsampled = pd.concat([df_majority, df_minority_upsampled])\n",
    " \n",
    "# Display new class counts\n",
    "df_upsampled.transportation_issues.value_counts()\n",
    "# 1    576\n",
    "# 0    576\n",
    "# Name: balance, dtype: int64"
   ]
  },
  {
   "cell_type": "code",
   "execution_count": null,
   "metadata": {
    "id": "I7qk_x8g1VQG"
   },
   "outputs": [],
   "source": [
    "df_upsampled=df_upsampled.drop('id', axis = 1)"
   ]
  },
  {
   "cell_type": "markdown",
   "metadata": {
    "id": "GrhkaatC1VQJ"
   },
   "source": [
    "## Random Forest Classifier"
   ]
  },
  {
   "cell_type": "code",
   "execution_count": null,
   "metadata": {
    "id": "vNuSUZFi1VQK",
    "outputId": "3d0eb4ea-22f1-40df-c1bd-177676caa511"
   },
   "outputs": [
    {
     "name": "stdout",
     "output_type": "stream",
     "text": [
      "<class 'pandas.core.frame.DataFrame'>\n",
      "Int64Index: 118750 entries, 0 to 53264\n",
      "Columns: 1680 entries, transportation_issues to total_urgent_care_visit_ct_pmpm\n",
      "dtypes: float64(386), int64(5), uint8(1289)\n",
      "memory usage: 501.1 MB\n"
     ]
    }
   ],
   "source": [
    "df_upsampled.info()"
   ]
  },
  {
   "cell_type": "code",
   "execution_count": null,
   "metadata": {
    "id": "l1xIHIYF1VQM"
   },
   "outputs": [],
   "source": [
    "from sklearn.model_selection import train_test_split"
   ]
  },
  {
   "cell_type": "code",
   "execution_count": null,
   "metadata": {
    "id": "X41R2_TX1VQP"
   },
   "outputs": [],
   "source": [
    "X=df_upsampled.drop('transportation_issues', axis = 1)\n",
    "y=df_upsampled['transportation_issues']"
   ]
  },
  {
   "cell_type": "code",
   "execution_count": null,
   "metadata": {
    "id": "jbUjtHdW1VQR"
   },
   "outputs": [],
   "source": [
    "X_train, X_test, y_train, y_test = train_test_split(X, y, test_size=0.3)"
   ]
  },
  {
   "cell_type": "code",
   "execution_count": null,
   "metadata": {
    "id": "5l0_3E2U1VQT"
   },
   "outputs": [],
   "source": [
    "from sklearn.ensemble import RandomForestClassifier"
   ]
  },
  {
   "cell_type": "code",
   "execution_count": null,
   "metadata": {
    "id": "0X_cISjg1VQU"
   },
   "outputs": [],
   "source": [
    "clf=RandomForestClassifier(n_estimators=400, random_state = 42)"
   ]
  },
  {
   "cell_type": "code",
   "execution_count": null,
   "metadata": {
    "id": "vo-mzDgD1VQX",
    "outputId": "0d063fa8-9076-408d-dc32-b0fb25d5b8d9"
   },
   "outputs": [
    {
     "data": {
      "text/plain": [
       "RandomForestClassifier(n_estimators=400, random_state=42)"
      ]
     },
     "execution_count": 68,
     "metadata": {
      "tags": []
     },
     "output_type": "execute_result"
    }
   ],
   "source": [
    "clf.fit(X_train,y_train)"
   ]
  },
  {
   "cell_type": "code",
   "execution_count": null,
   "metadata": {
    "id": "5h-jnbWs1VQb"
   },
   "outputs": [],
   "source": [
    "y_pred=clf.predict(X_test)"
   ]
  },
  {
   "cell_type": "code",
   "execution_count": null,
   "metadata": {
    "id": "ZgXDU8I41VQd",
    "outputId": "9dcaecf8-21fb-4ecf-f6f7-711426321c25"
   },
   "outputs": [
    {
     "name": "stdout",
     "output_type": "stream",
     "text": [
      "Accuracy: 0.9764771929824562\n"
     ]
    }
   ],
   "source": [
    "from sklearn import metrics\n",
    "print(\"Accuracy:\",metrics.accuracy_score(y_test, y_pred))"
   ]
  },
  {
   "cell_type": "code",
   "execution_count": null,
   "metadata": {
    "id": "FtcuvzJ61VQj",
    "outputId": "ed9ec77a-f54e-437b-ed4d-d0a1fdd7b437"
   },
   "outputs": [
    {
     "data": {
      "text/plain": [
       "0.9765293280374285"
      ]
     },
     "execution_count": 71,
     "metadata": {
      "tags": []
     },
     "output_type": "execute_result"
    }
   ],
   "source": [
    "from sklearn.metrics import roc_curve, auc\n",
    "false_positive_rate, true_positive_rate, thresholds = roc_curve(y_test, y_pred)\n",
    "roc_auc = auc(false_positive_rate, true_positive_rate)\n",
    "roc_auc"
   ]
  },
  {
   "cell_type": "code",
   "execution_count": null,
   "metadata": {
    "id": "EgPL-eP61VQk"
   },
   "outputs": [],
   "source": [
    "from sklearn.metrics import confusion_matrix\n",
    "CM=confusion_matrix(y_test, y_pred)"
   ]
  },
  {
   "cell_type": "code",
   "execution_count": null,
   "metadata": {
    "id": "7psNihTZ1VQm",
    "outputId": "c07b9a4a-0245-4c3e-e1a8-b56eec6cf817"
   },
   "outputs": [
    {
     "data": {
      "text/plain": [
       "array([[17305,   600],\n",
       "       [  238, 17482]])"
      ]
     },
     "execution_count": 73,
     "metadata": {
      "tags": []
     },
     "output_type": "execute_result"
    }
   ],
   "source": [
    "CM"
   ]
  },
  {
   "cell_type": "code",
   "execution_count": null,
   "metadata": {
    "id": "tYrExizB1VQn",
    "outputId": "01f137fc-6662-4508-cb24-10b64410965a"
   },
   "outputs": [
    {
     "data": {
      "image/png": "[encoded data removed]",
      "text/plain": [
       "<Figure size 1152x504 with 2 Axes>"
      ]
     },
     "metadata": {
      "needs_background": "light",
      "tags": []
     },
     "output_type": "display_data"
    }
   ],
   "source": [
    "import seaborn\n",
    "plt.figure(figsize=(16,7))\n",
    "sns.set(font_scale=1.4)\n",
    "seaborn.heatmap(CM,annot=True,cmap=plt.cm.Greens,annot_kws={'size':10},linewidths=0.2)\n",
    "class_names = [0,1]\n",
    "tick_marks = np.arange(len(class_names))\n",
    "plt.xlabel('Predicted label')\n",
    "plt.ylabel('True label')\n",
    "plt.title('Confusion Matrix for Random Forest Model')\n",
    "plt.show()"
   ]
  },
  {
   "cell_type": "code",
   "execution_count": null,
   "metadata": {
    "id": "8d9BAlus1VQp"
   },
   "outputs": [],
   "source": [
    "matrix = confusion_matrix(y_test, y_pred)\n",
    "matrix = matrix.astype('float') / matrix.sum(axis=1)[:, np.newaxis]"
   ]
  },
  {
   "cell_type": "code",
   "execution_count": null,
   "metadata": {
    "id": "Xu1unfP01VQr",
    "outputId": "a6750c71-f410-4e25-e9c5-9f69afbf6f41",
    "scrolled": true
   },
   "outputs": [
    {
     "data": {
      "image/png": "[encoded data removed]",
      "text/plain": [
       "<Figure size 1152x504 with 2 Axes>"
      ]
     },
     "metadata": {
      "tags": []
     },
     "output_type": "display_data"
    }
   ],
   "source": [
    "plt.figure(figsize=(16,7))\n",
    "sns.set(font_scale=1.4)\n",
    "sns.heatmap(matrix, annot=True, annot_kws={'size':10},\n",
    "            cmap=plt.cm.Greens, linewidths=0.2)\n",
    "\n",
    "\n",
    "class_names = [0,1]\n",
    "tick_marks = np.arange(len(class_names))\n",
    "\n",
    "plt.xlabel('Predicted label')\n",
    "plt.ylabel('True label')\n",
    "plt.title('Confusion Matrix for Random Forest Model')\n",
    "plt.show()"
   ]
  },
  {
   "cell_type": "code",
   "execution_count": null,
   "metadata": {
    "id": "8TieoKuc1VQu",
    "outputId": "85b5b072-9740-4b57-ae71-ad14b9a8affd",
    "scrolled": true
   },
   "outputs": [
    {
     "name": "stdout",
     "output_type": "stream",
     "text": [
      "              precision    recall  f1-score   support\n",
      "\n",
      "           0       0.99      0.97      0.98     17905\n",
      "           1       0.97      0.99      0.98     17720\n",
      "\n",
      "    accuracy                           0.98     35625\n",
      "   macro avg       0.98      0.98      0.98     35625\n",
      "weighted avg       0.98      0.98      0.98     35625\n",
      "\n"
     ]
    }
   ],
   "source": [
    "from sklearn.metrics import classification_report\n",
    "\n",
    "print(classification_report(y_test, y_pred))"
   ]
  },
  {
   "cell_type": "code",
   "execution_count": null,
   "metadata": {
    "id": "AkBBvIi31VQw"
   },
   "outputs": [],
   "source": [
    "# Import tools needed for visualization\n",
    "from sklearn.tree import export_graphviz"
   ]
  },
  {
   "cell_type": "code",
   "execution_count": null,
   "metadata": {
    "id": "qOAKau_o1VQx"
   },
   "outputs": [],
   "source": [
    "import pydot"
   ]
  },
  {
   "cell_type": "code",
   "execution_count": null,
   "metadata": {
    "id": "hCUYqX_H1VQy"
   },
   "outputs": [],
   "source": [
    "feature_list=X.columns"
   ]
  },
  {
   "cell_type": "code",
   "execution_count": null,
   "metadata": {
    "id": "77NRZY6s1VQ0"
   },
   "outputs": [],
   "source": [
    "# Pull out one tree from the forest\n",
    "tree = clf.estimators_[5]\n",
    "# Export the image to a dot file\n",
    "export_graphviz(tree, out_file = 'tree.dot', feature_names = feature_list, rounded = True, precision = 1)\n",
    "# Use dot file to create a graph\n",
    "(graph, ) = pydot.graph_from_dot_file('tree.dot')\n",
    "# Write graph to a png file\n",
    "graph.write_svg('tree.svg')"
   ]
  },
  {
   "cell_type": "markdown",
   "metadata": {
    "id": "pRFDWRAG1VQ3"
   },
   "source": [
    "## Apply the model to the holdout"
   ]
  },
  {
   "cell_type": "code",
   "execution_count": null,
   "metadata": {
    "id": "ChUF4Xh71VQ3",
    "outputId": "bd562faf-c14f-48da-cf8f-0af37c6915c1"
   },
   "outputs": [
    {
     "name": "stdout",
     "output_type": "stream",
     "text": [
      "<class 'pandas.core.frame.DataFrame'>\n",
      "Int64Index: 17681 entries, 69572 to 87252\n",
      "Columns: 1680 entries, smoker_current_ind_0.0 to total_urgent_care_visit_ct_pmpm\n",
      "dtypes: float64(386), int64(5), uint8(1289)\n",
      "memory usage: 74.6 MB\n"
     ]
    }
   ],
   "source": [
    "holdout.info()"
   ]
  },
  {
   "cell_type": "code",
   "execution_count": null,
   "metadata": {
    "id": "_cFP5nWg1VQ5",
    "outputId": "df67d4dc-a5d1-476a-bfec-8f9a4292a153",
    "scrolled": true
   },
   "outputs": [
    {
     "data": {
      "text/plain": [
       "0        000M289dOSbe8dTL75c71YAI\n",
       "1        000b16MOSTLY7A637698c5I3\n",
       "2        0011MOdcfS9188T8aLYA3dIa\n",
       "3        001MO8SaT6dL8ae755cYA3dI\n",
       "4        001MOS3a40Tc5L1534YAeI40\n",
       "                   ...           \n",
       "17676    ffc0aMO78c3ST3LY9f9bfA5I\n",
       "17677    ffd22M84OSdT0LYb07A8f9I5\n",
       "17678    ffe9M2bae7OST85LYA85I650\n",
       "17679    ffeM3Ofc6e47S3TLd41e1YAI\n",
       "17680    ffecMOS6770T1Lce1eY3AIa8\n",
       "Name: person_id_syn, Length: 17681, dtype: object"
      ]
     },
     "execution_count": 90,
     "metadata": {
      "tags": []
     },
     "output_type": "execute_result"
    }
   ],
   "source": [
    "data_holdout[\"person_id_syn\"]"
   ]
  },
  {
   "cell_type": "code",
   "execution_count": null,
   "metadata": {
    "id": "CqNMVcb31VQ7"
   },
   "outputs": [],
   "source": [
    "hl=holdout.drop('id',axis=1)"
   ]
  },
  {
   "cell_type": "code",
   "execution_count": null,
   "metadata": {
    "id": "Af7laxBt1VQ9",
    "outputId": "42e219aa-4b51-4493-8dd8-3d403a4ef555",
    "scrolled": true
   },
   "outputs": [
    {
     "data": {
      "text/plain": [
       "(17681, 1679)"
      ]
     },
     "execution_count": 91,
     "metadata": {
      "tags": []
     },
     "output_type": "execute_result"
    }
   ],
   "source": [
    "hl.shape"
   ]
  },
  {
   "cell_type": "code",
   "execution_count": null,
   "metadata": {
    "id": "vTeQgYAx1VRA"
   },
   "outputs": [],
   "source": [
    "y_pred_class_proba=clf.predict_proba(hl)"
   ]
  },
  {
   "cell_type": "code",
   "execution_count": null,
   "metadata": {
    "id": "DLnYWFwj1VRC"
   },
   "outputs": [],
   "source": [
    "result=pd.DataFrame(y_pred_class_proba)"
   ]
  },
  {
   "cell_type": "code",
   "execution_count": null,
   "metadata": {
    "id": "q0xQ56hs1VRD",
    "outputId": "7c800dff-f2e7-493b-9a38-4a39060959d2"
   },
   "outputs": [
    {
     "name": "stdout",
     "output_type": "stream",
     "text": [
      "<class 'pandas.core.frame.DataFrame'>\n",
      "RangeIndex: 17681 entries, 0 to 17680\n",
      "Columns: 825 entries, person_id_syn to submcc_rsk_chol_ind\n",
      "dtypes: float64(443), int64(360), object(22)\n",
      "memory usage: 111.3+ MB\n"
     ]
    }
   ],
   "source": [
    "data_holdout.info()"
   ]
  },
  {
   "cell_type": "code",
   "execution_count": null,
   "metadata": {
    "id": "ce4dQpGx1VRF"
   },
   "outputs": [],
   "source": [
    "holdout_pred=pd.concat([result,data_holdout[\"person_id_syn\"]],axis=1)"
   ]
  },
  {
   "cell_type": "code",
   "execution_count": null,
   "metadata": {
    "id": "s667gk0N1VRG",
    "outputId": "b8933a4a-a235-4fc0-b520-fa769cccfb8d"
   },
   "outputs": [
    {
     "data": {
      "text/html": [
       "<div>\n",
       "<style scoped>\n",
       "    .dataframe tbody tr th:only-of-type {\n",
       "        vertical-align: middle;\n",
       "    }\n",
       "\n",
       "    .dataframe tbody tr th {\n",
       "        vertical-align: top;\n",
       "    }\n",
       "\n",
       "    .dataframe thead th {\n",
       "        text-align: right;\n",
       "    }\n",
       "</style>\n",
       "<table border=\"1\" class=\"dataframe\">\n",
       "  <thead>\n",
       "    <tr style=\"text-align: right;\">\n",
       "      <th></th>\n",
       "      <th>0</th>\n",
       "      <th>1</th>\n",
       "      <th>person_id_syn</th>\n",
       "    </tr>\n",
       "  </thead>\n",
       "  <tbody>\n",
       "    <tr>\n",
       "      <th>0</th>\n",
       "      <td>0.4050</td>\n",
       "      <td>0.5950</td>\n",
       "      <td>000M289dOSbe8dTL75c71YAI</td>\n",
       "    </tr>\n",
       "    <tr>\n",
       "      <th>1</th>\n",
       "      <td>0.8350</td>\n",
       "      <td>0.1650</td>\n",
       "      <td>000b16MOSTLY7A637698c5I3</td>\n",
       "    </tr>\n",
       "    <tr>\n",
       "      <th>2</th>\n",
       "      <td>0.7400</td>\n",
       "      <td>0.2600</td>\n",
       "      <td>0011MOdcfS9188T8aLYA3dIa</td>\n",
       "    </tr>\n",
       "    <tr>\n",
       "      <th>3</th>\n",
       "      <td>0.8425</td>\n",
       "      <td>0.1575</td>\n",
       "      <td>001MO8SaT6dL8ae755cYA3dI</td>\n",
       "    </tr>\n",
       "    <tr>\n",
       "      <th>4</th>\n",
       "      <td>0.4600</td>\n",
       "      <td>0.5400</td>\n",
       "      <td>001MOS3a40Tc5L1534YAeI40</td>\n",
       "    </tr>\n",
       "    <tr>\n",
       "      <th>...</th>\n",
       "      <td>...</td>\n",
       "      <td>...</td>\n",
       "      <td>...</td>\n",
       "    </tr>\n",
       "    <tr>\n",
       "      <th>17676</th>\n",
       "      <td>0.9175</td>\n",
       "      <td>0.0825</td>\n",
       "      <td>ffc0aMO78c3ST3LY9f9bfA5I</td>\n",
       "    </tr>\n",
       "    <tr>\n",
       "      <th>17677</th>\n",
       "      <td>0.8250</td>\n",
       "      <td>0.1750</td>\n",
       "      <td>ffd22M84OSdT0LYb07A8f9I5</td>\n",
       "    </tr>\n",
       "    <tr>\n",
       "      <th>17678</th>\n",
       "      <td>0.6625</td>\n",
       "      <td>0.3375</td>\n",
       "      <td>ffe9M2bae7OST85LYA85I650</td>\n",
       "    </tr>\n",
       "    <tr>\n",
       "      <th>17679</th>\n",
       "      <td>0.8650</td>\n",
       "      <td>0.1350</td>\n",
       "      <td>ffeM3Ofc6e47S3TLd41e1YAI</td>\n",
       "    </tr>\n",
       "    <tr>\n",
       "      <th>17680</th>\n",
       "      <td>0.3650</td>\n",
       "      <td>0.6350</td>\n",
       "      <td>ffecMOS6770T1Lce1eY3AIa8</td>\n",
       "    </tr>\n",
       "  </tbody>\n",
       "</table>\n",
       "<p>17681 rows × 3 columns</p>\n",
       "</div>"
      ],
      "text/plain": [
       "            0       1             person_id_syn\n",
       "0      0.4050  0.5950  000M289dOSbe8dTL75c71YAI\n",
       "1      0.8350  0.1650  000b16MOSTLY7A637698c5I3\n",
       "2      0.7400  0.2600  0011MOdcfS9188T8aLYA3dIa\n",
       "3      0.8425  0.1575  001MO8SaT6dL8ae755cYA3dI\n",
       "4      0.4600  0.5400  001MOS3a40Tc5L1534YAeI40\n",
       "...       ...     ...                       ...\n",
       "17676  0.9175  0.0825  ffc0aMO78c3ST3LY9f9bfA5I\n",
       "17677  0.8250  0.1750  ffd22M84OSdT0LYb07A8f9I5\n",
       "17678  0.6625  0.3375  ffe9M2bae7OST85LYA85I650\n",
       "17679  0.8650  0.1350  ffeM3Ofc6e47S3TLd41e1YAI\n",
       "17680  0.3650  0.6350  ffecMOS6770T1Lce1eY3AIa8\n",
       "\n",
       "[17681 rows x 3 columns]"
      ]
     },
     "execution_count": 95,
     "metadata": {
      "tags": []
     },
     "output_type": "execute_result"
    }
   ],
   "source": [
    "holdout_pred"
   ]
  },
  {
   "cell_type": "code",
   "execution_count": null,
   "metadata": {
    "id": "IJDn2IsO1VRJ",
    "outputId": "43447e58-3622-4493-9e97-9857b1187b90"
   },
   "outputs": [
    {
     "data": {
      "text/plain": [
       "1"
      ]
     },
     "execution_count": 96,
     "metadata": {
      "tags": []
     },
     "output_type": "execute_result"
    }
   ],
   "source": [
    "holdout_pred.columns[1]"
   ]
  },
  {
   "cell_type": "code",
   "execution_count": null,
   "metadata": {
    "id": "8Yej1s3E1VRL"
   },
   "outputs": [],
   "source": [
    "holdout_pred=holdout_pred.sort_values(holdout_pred.columns[1],ascending=False)"
   ]
  },
  {
   "cell_type": "code",
   "execution_count": null,
   "metadata": {
    "id": "BThkRHjD1VRN"
   },
   "outputs": [],
   "source": [
    "holdout_pred[\"RANK\"]=list(range(1,17682))"
   ]
  },
  {
   "cell_type": "code",
   "execution_count": null,
   "metadata": {
    "id": "VCNh4PTu1VRO",
    "outputId": "9e17100c-0cc7-448b-cf66-ce4efb684eae"
   },
   "outputs": [
    {
     "data": {
      "text/html": [
       "<div>\n",
       "<style scoped>\n",
       "    .dataframe tbody tr th:only-of-type {\n",
       "        vertical-align: middle;\n",
       "    }\n",
       "\n",
       "    .dataframe tbody tr th {\n",
       "        vertical-align: top;\n",
       "    }\n",
       "\n",
       "    .dataframe thead th {\n",
       "        text-align: right;\n",
       "    }\n",
       "</style>\n",
       "<table border=\"1\" class=\"dataframe\">\n",
       "  <thead>\n",
       "    <tr style=\"text-align: right;\">\n",
       "      <th></th>\n",
       "      <th>0</th>\n",
       "      <th>1</th>\n",
       "      <th>person_id_syn</th>\n",
       "      <th>RANK</th>\n",
       "    </tr>\n",
       "  </thead>\n",
       "  <tbody>\n",
       "    <tr>\n",
       "      <th>15195</th>\n",
       "      <td>0.1725</td>\n",
       "      <td>0.8275</td>\n",
       "      <td>cM679d5OcSTLY451AbIa9cf4</td>\n",
       "      <td>1</td>\n",
       "    </tr>\n",
       "    <tr>\n",
       "      <th>9389</th>\n",
       "      <td>0.1825</td>\n",
       "      <td>0.8175</td>\n",
       "      <td>M7bbOceST287L03Y24A5dI6f</td>\n",
       "      <td>2</td>\n",
       "    </tr>\n",
       "    <tr>\n",
       "      <th>5189</th>\n",
       "      <td>0.1825</td>\n",
       "      <td>0.8175</td>\n",
       "      <td>6fMO9ST1dLa734Yf34Ab1fIf</td>\n",
       "      <td>3</td>\n",
       "    </tr>\n",
       "    <tr>\n",
       "      <th>15728</th>\n",
       "      <td>0.2050</td>\n",
       "      <td>0.7950</td>\n",
       "      <td>d5Mf5OS90T5aL9364Y1cA2I3</td>\n",
       "      <td>4</td>\n",
       "    </tr>\n",
       "    <tr>\n",
       "      <th>9783</th>\n",
       "      <td>0.2100</td>\n",
       "      <td>0.7900</td>\n",
       "      <td>M99OcfS13Tf15LbYaAf7cafI</td>\n",
       "      <td>5</td>\n",
       "    </tr>\n",
       "    <tr>\n",
       "      <th>...</th>\n",
       "      <td>...</td>\n",
       "      <td>...</td>\n",
       "      <td>...</td>\n",
       "      <td>...</td>\n",
       "    </tr>\n",
       "    <tr>\n",
       "      <th>8285</th>\n",
       "      <td>0.9600</td>\n",
       "      <td>0.0400</td>\n",
       "      <td>M38edc4O109S25T40LYaA6eI</td>\n",
       "      <td>17677</td>\n",
       "    </tr>\n",
       "    <tr>\n",
       "      <th>14301</th>\n",
       "      <td>0.9625</td>\n",
       "      <td>0.0375</td>\n",
       "      <td>b81M1213OaSbT1LY99AI0464</td>\n",
       "      <td>17678</td>\n",
       "    </tr>\n",
       "    <tr>\n",
       "      <th>15956</th>\n",
       "      <td>0.9650</td>\n",
       "      <td>0.0350</td>\n",
       "      <td>dMO04fe27cSc102T1L8Y1AcI</td>\n",
       "      <td>17679</td>\n",
       "    </tr>\n",
       "    <tr>\n",
       "      <th>3797</th>\n",
       "      <td>0.9675</td>\n",
       "      <td>0.0325</td>\n",
       "      <td>53b6dM4fO9S08T56LY4AI057</td>\n",
       "      <td>17680</td>\n",
       "    </tr>\n",
       "    <tr>\n",
       "      <th>9347</th>\n",
       "      <td>0.9725</td>\n",
       "      <td>0.0275</td>\n",
       "      <td>M7Oa45S2T09LYaAIc6178e32</td>\n",
       "      <td>17681</td>\n",
       "    </tr>\n",
       "  </tbody>\n",
       "</table>\n",
       "<p>17681 rows × 4 columns</p>\n",
       "</div>"
      ],
      "text/plain": [
       "            0       1             person_id_syn   RANK\n",
       "15195  0.1725  0.8275  cM679d5OcSTLY451AbIa9cf4      1\n",
       "9389   0.1825  0.8175  M7bbOceST287L03Y24A5dI6f      2\n",
       "5189   0.1825  0.8175  6fMO9ST1dLa734Yf34Ab1fIf      3\n",
       "15728  0.2050  0.7950  d5Mf5OS90T5aL9364Y1cA2I3      4\n",
       "9783   0.2100  0.7900  M99OcfS13Tf15LbYaAf7cafI      5\n",
       "...       ...     ...                       ...    ...\n",
       "8285   0.9600  0.0400  M38edc4O109S25T40LYaA6eI  17677\n",
       "14301  0.9625  0.0375  b81M1213OaSbT1LY99AI0464  17678\n",
       "15956  0.9650  0.0350  dMO04fe27cSc102T1L8Y1AcI  17679\n",
       "3797   0.9675  0.0325  53b6dM4fO9S08T56LY4AI057  17680\n",
       "9347   0.9725  0.0275  M7Oa45S2T09LYaAIc6178e32  17681\n",
       "\n",
       "[17681 rows x 4 columns]"
      ]
     },
     "execution_count": 101,
     "metadata": {
      "tags": []
     },
     "output_type": "execute_result"
    }
   ],
   "source": [
    "holdout_pred"
   ]
  },
  {
   "cell_type": "code",
   "execution_count": null,
   "metadata": {
    "id": "jV7V1qVi1VRP"
   },
   "outputs": [],
   "source": [
    "holdout_pred.to_csv(\"CaseCompetition_FirstName_LastName.csv\")"
   ]
  },
  {
   "cell_type": "code",
   "execution_count": null,
   "metadata": {
    "id": "6hm64O9P1VRT"
   },
   "outputs": [],
   "source": []
  }
 ],
 "metadata": {
  "colab": {
   "name": "Humana_final.ipynb",
   "provenance": []
  },
  "kernelspec": {
   "display_name": "Python 3",
   "language": "python",
   "name": "python3"
  },
  "language_info": {
   "codemirror_mode": {
    "name": "ipython",
    "version": 3
   },
   "file_extension": ".py",
   "mimetype": "text/x-python",
   "name": "python",
   "nbconvert_exporter": "python",
   "pygments_lexer": "ipython3",
   "version": "3.8.3"
  }
 },
 "nbformat": 4,
 "nbformat_minor": 1
}
